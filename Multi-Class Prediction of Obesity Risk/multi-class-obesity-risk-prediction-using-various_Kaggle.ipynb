{
 "cells": [
  {
   "cell_type": "markdown",
   "id": "3a046f13",
   "metadata": {},
   "source": [
    "# Multi-Class Obesity Risk Prediction Using Various ML Models"
   ]
  },
  {
   "cell_type": "markdown",
   "id": "7a3c4dec",
   "metadata": {},
   "source": [
    "This project aims to build a machine learning model to predict obesity risk levels based on personal and lifestyle data. The classification problem is multi-class, where the objective is to classify individuals into different categories of obesity, such as Normal Weight, Overweight, or various levels of Obesity (Type I, II, III).\n",
    "\n"
   ]
  },
  {
   "cell_type": "markdown",
   "id": "249f4d10",
   "metadata": {},
   "source": [
    "### Dataset Description:\n",
    "The dataset provided for the \"Multi-Class Prediction of Obesity Risk\" project is derived from a deep learning model trained on the original \"Obesity or CVD Risk\" dataset. It contains various personal, lifestyle, and health-related features aimed at predicting obesity risk levels. The dataset includes both categorical and numerical variables. Key features in the dataset are:\n",
    "\n",
    "- **ID**: Unique identifier for each individual.\n",
    "- **Gender**: Categorical feature indicating gender (Male/Female).\n",
    "- **Age**: Age of the individual.\n",
    "- **Height**: Height in meters.\n",
    "- **Weight**: Weight in kilograms.\n",
    "- **Family History with Overweight**: Categorical feature indicating whether the individual has a family history of being overweight (yes/no).\n",
    "- **FAVC**: Indicates if the individual frequently consumes high-calorie food (yes/no).\n",
    "- **FCVC**: Frequency of vegetable consumption.\n",
    "- **NCP**: Number of main meals consumed per day.\n",
    "- **CAEC**: Frequency of eating between meals (Sometimes, Frequently, Always).\n",
    "- **SMOKE**: Smoking habit (yes/no).\n",
    "- **CH2O**: Daily water consumption in liters.\n",
    "- **SCC**: Monitors calorie consumption (yes/no).\n",
    "- **FAF**: Frequency of physical activity per week.\n",
    "- **TUE**: Time spent on technology (hours/day).\n",
    "- **CALC**: Frequency of alcohol consumption (Sometimes, Frequently, Always).\n",
    "- **MTRANS**: Mode of transportation (Automobile, Public Transport, Walking, etc.).\n",
    "- **NObeyesdad**: Target variable indicating the obesity risk level (e.g., Normal Weight, Overweight, Obesity Type I/II/III).\n",
    "\n",
    "The dataset is designed for multi-class classification, with the target variable `NObeyesdad` containing different categories of obesity risk levels. \n"
   ]
  },
  {
   "cell_type": "code",
   "execution_count": 1,
   "id": "1457cdd1",
   "metadata": {
    "execution": {
     "iopub.execute_input": "2024-09-15T17:16:01.579243Z",
     "iopub.status.busy": "2024-09-15T17:16:01.578936Z",
     "iopub.status.idle": "2024-09-15T17:16:04.544485Z",
     "shell.execute_reply": "2024-09-15T17:16:04.543459Z",
     "shell.execute_reply.started": "2024-09-15T17:16:01.579209Z"
    }
   },
   "outputs": [],
   "source": [
    "import numpy as np\n",
    "import pandas as pd\n",
    "import matplotlib.pyplot as plt\n",
    "import seaborn as sns\n",
    "\n",
    "from sklearn.model_selection import train_test_split\n",
    "from sklearn.metrics import accuracy_score, confusion_matrix, roc_auc_score, roc_curve, precision_score, recall_score, f1_score\n",
    "from sklearn.preprocessing import LabelEncoder , StandardScaler\n",
    "\n",
    "\n",
    "from sklearn.ensemble import RandomForestClassifier  ,GradientBoostingClassifier\n",
    "from sklearn.linear_model import LogisticRegression\n",
    "from sklearn.naive_bayes import GaussianNB\n",
    "from sklearn.svm import SVC\n",
    "from xgboost import XGBClassifier\n",
    "from sklearn.neighbors import KNeighborsClassifier\n",
    "from sklearn.tree import DecisionTreeClassifier\n",
    "from sklearn.neural_network import MLPClassifier  # Multilayer Perceptron for neural networks\n",
    "from sklearn.ensemble import AdaBoostClassifier  # Boosting classifier\n",
    "from sklearn.ensemble import BaggingClassifier  # Bagging classifier\n",
    "from lightgbm import LGBMClassifier  # LightGBM model\n",
    "\n"
   ]
  },
  {
   "cell_type": "code",
   "execution_count": 2,
   "id": "545c5a70",
   "metadata": {
    "execution": {
     "iopub.execute_input": "2024-09-15T17:16:04.549878Z",
     "iopub.status.busy": "2024-09-15T17:16:04.549589Z",
     "iopub.status.idle": "2024-09-15T17:16:04.555641Z",
     "shell.execute_reply": "2024-09-15T17:16:04.554311Z",
     "shell.execute_reply.started": "2024-09-15T17:16:04.549846Z"
    }
   },
   "outputs": [],
   "source": [
    "sns.set(style=\"whitegrid\")\n"
   ]
  },
  {
   "cell_type": "markdown",
   "id": "3e5e4412",
   "metadata": {},
   "source": [
    "### Explore Data"
   ]
  },
  {
   "cell_type": "code",
   "execution_count": 3,
   "id": "95c37366",
   "metadata": {
    "execution": {
     "iopub.execute_input": "2024-09-15T17:16:04.557733Z",
     "iopub.status.busy": "2024-09-15T17:16:04.557443Z",
     "iopub.status.idle": "2024-09-15T17:16:04.635738Z",
     "shell.execute_reply": "2024-09-15T17:16:04.634644Z",
     "shell.execute_reply.started": "2024-09-15T17:16:04.557701Z"
    }
   },
   "outputs": [],
   "source": [
    "#load training data\n",
    "df_train=pd.read_csv(\"/kaggle/input/playground-series-s4e2/train.csv\")"
   ]
  },
  {
   "cell_type": "code",
   "execution_count": 4,
   "id": "54381d27",
   "metadata": {
    "execution": {
     "iopub.execute_input": "2024-09-15T17:16:04.640100Z",
     "iopub.status.busy": "2024-09-15T17:16:04.639733Z",
     "iopub.status.idle": "2024-09-15T17:16:04.692739Z",
     "shell.execute_reply": "2024-09-15T17:16:04.691725Z",
     "shell.execute_reply.started": "2024-09-15T17:16:04.640063Z"
    }
   },
   "outputs": [],
   "source": [
    "#load testing  data\n",
    "df_test=pd.read_csv(\"/kaggle/input/playground-series-s4e2/test.csv\")"
   ]
  },
  {
   "cell_type": "markdown",
   "id": "97a0ed6c",
   "metadata": {},
   "source": [
    "###### read dataset "
   ]
  },
  {
   "cell_type": "code",
   "execution_count": 5,
   "id": "7edfd4f4",
   "metadata": {
    "execution": {
     "iopub.execute_input": "2024-09-15T17:16:04.694461Z",
     "iopub.status.busy": "2024-09-15T17:16:04.693995Z",
     "iopub.status.idle": "2024-09-15T17:16:04.729678Z",
     "shell.execute_reply": "2024-09-15T17:16:04.728648Z",
     "shell.execute_reply.started": "2024-09-15T17:16:04.694363Z"
    }
   },
   "outputs": [
    {
     "data": {
      "text/html": [
       "<div>\n",
       "<style scoped>\n",
       "    .dataframe tbody tr th:only-of-type {\n",
       "        vertical-align: middle;\n",
       "    }\n",
       "\n",
       "    .dataframe tbody tr th {\n",
       "        vertical-align: top;\n",
       "    }\n",
       "\n",
       "    .dataframe thead th {\n",
       "        text-align: right;\n",
       "    }\n",
       "</style>\n",
       "<table border=\"1\" class=\"dataframe\">\n",
       "  <thead>\n",
       "    <tr style=\"text-align: right;\">\n",
       "      <th></th>\n",
       "      <th>id</th>\n",
       "      <th>Gender</th>\n",
       "      <th>Age</th>\n",
       "      <th>Height</th>\n",
       "      <th>Weight</th>\n",
       "      <th>family_history_with_overweight</th>\n",
       "      <th>FAVC</th>\n",
       "      <th>FCVC</th>\n",
       "      <th>NCP</th>\n",
       "      <th>CAEC</th>\n",
       "      <th>SMOKE</th>\n",
       "      <th>CH2O</th>\n",
       "      <th>SCC</th>\n",
       "      <th>FAF</th>\n",
       "      <th>TUE</th>\n",
       "      <th>CALC</th>\n",
       "      <th>MTRANS</th>\n",
       "      <th>NObeyesdad</th>\n",
       "    </tr>\n",
       "  </thead>\n",
       "  <tbody>\n",
       "    <tr>\n",
       "      <th>0</th>\n",
       "      <td>0</td>\n",
       "      <td>Male</td>\n",
       "      <td>24.443011</td>\n",
       "      <td>1.699998</td>\n",
       "      <td>81.669950</td>\n",
       "      <td>yes</td>\n",
       "      <td>yes</td>\n",
       "      <td>2.000000</td>\n",
       "      <td>2.983297</td>\n",
       "      <td>Sometimes</td>\n",
       "      <td>no</td>\n",
       "      <td>2.763573</td>\n",
       "      <td>no</td>\n",
       "      <td>0.000000</td>\n",
       "      <td>0.976473</td>\n",
       "      <td>Sometimes</td>\n",
       "      <td>Public_Transportation</td>\n",
       "      <td>Overweight_Level_II</td>\n",
       "    </tr>\n",
       "    <tr>\n",
       "      <th>1</th>\n",
       "      <td>1</td>\n",
       "      <td>Female</td>\n",
       "      <td>18.000000</td>\n",
       "      <td>1.560000</td>\n",
       "      <td>57.000000</td>\n",
       "      <td>yes</td>\n",
       "      <td>yes</td>\n",
       "      <td>2.000000</td>\n",
       "      <td>3.000000</td>\n",
       "      <td>Frequently</td>\n",
       "      <td>no</td>\n",
       "      <td>2.000000</td>\n",
       "      <td>no</td>\n",
       "      <td>1.000000</td>\n",
       "      <td>1.000000</td>\n",
       "      <td>no</td>\n",
       "      <td>Automobile</td>\n",
       "      <td>Normal_Weight</td>\n",
       "    </tr>\n",
       "    <tr>\n",
       "      <th>2</th>\n",
       "      <td>2</td>\n",
       "      <td>Female</td>\n",
       "      <td>18.000000</td>\n",
       "      <td>1.711460</td>\n",
       "      <td>50.165754</td>\n",
       "      <td>yes</td>\n",
       "      <td>yes</td>\n",
       "      <td>1.880534</td>\n",
       "      <td>1.411685</td>\n",
       "      <td>Sometimes</td>\n",
       "      <td>no</td>\n",
       "      <td>1.910378</td>\n",
       "      <td>no</td>\n",
       "      <td>0.866045</td>\n",
       "      <td>1.673584</td>\n",
       "      <td>no</td>\n",
       "      <td>Public_Transportation</td>\n",
       "      <td>Insufficient_Weight</td>\n",
       "    </tr>\n",
       "    <tr>\n",
       "      <th>3</th>\n",
       "      <td>3</td>\n",
       "      <td>Female</td>\n",
       "      <td>20.952737</td>\n",
       "      <td>1.710730</td>\n",
       "      <td>131.274851</td>\n",
       "      <td>yes</td>\n",
       "      <td>yes</td>\n",
       "      <td>3.000000</td>\n",
       "      <td>3.000000</td>\n",
       "      <td>Sometimes</td>\n",
       "      <td>no</td>\n",
       "      <td>1.674061</td>\n",
       "      <td>no</td>\n",
       "      <td>1.467863</td>\n",
       "      <td>0.780199</td>\n",
       "      <td>Sometimes</td>\n",
       "      <td>Public_Transportation</td>\n",
       "      <td>Obesity_Type_III</td>\n",
       "    </tr>\n",
       "    <tr>\n",
       "      <th>4</th>\n",
       "      <td>4</td>\n",
       "      <td>Male</td>\n",
       "      <td>31.641081</td>\n",
       "      <td>1.914186</td>\n",
       "      <td>93.798055</td>\n",
       "      <td>yes</td>\n",
       "      <td>yes</td>\n",
       "      <td>2.679664</td>\n",
       "      <td>1.971472</td>\n",
       "      <td>Sometimes</td>\n",
       "      <td>no</td>\n",
       "      <td>1.979848</td>\n",
       "      <td>no</td>\n",
       "      <td>1.967973</td>\n",
       "      <td>0.931721</td>\n",
       "      <td>Sometimes</td>\n",
       "      <td>Public_Transportation</td>\n",
       "      <td>Overweight_Level_II</td>\n",
       "    </tr>\n",
       "  </tbody>\n",
       "</table>\n",
       "</div>"
      ],
      "text/plain": [
       "   id  Gender        Age    Height      Weight family_history_with_overweight  \\\n",
       "0   0    Male  24.443011  1.699998   81.669950                            yes   \n",
       "1   1  Female  18.000000  1.560000   57.000000                            yes   \n",
       "2   2  Female  18.000000  1.711460   50.165754                            yes   \n",
       "3   3  Female  20.952737  1.710730  131.274851                            yes   \n",
       "4   4    Male  31.641081  1.914186   93.798055                            yes   \n",
       "\n",
       "  FAVC      FCVC       NCP        CAEC SMOKE      CH2O SCC       FAF  \\\n",
       "0  yes  2.000000  2.983297   Sometimes    no  2.763573  no  0.000000   \n",
       "1  yes  2.000000  3.000000  Frequently    no  2.000000  no  1.000000   \n",
       "2  yes  1.880534  1.411685   Sometimes    no  1.910378  no  0.866045   \n",
       "3  yes  3.000000  3.000000   Sometimes    no  1.674061  no  1.467863   \n",
       "4  yes  2.679664  1.971472   Sometimes    no  1.979848  no  1.967973   \n",
       "\n",
       "        TUE       CALC                 MTRANS           NObeyesdad  \n",
       "0  0.976473  Sometimes  Public_Transportation  Overweight_Level_II  \n",
       "1  1.000000         no             Automobile        Normal_Weight  \n",
       "2  1.673584         no  Public_Transportation  Insufficient_Weight  \n",
       "3  0.780199  Sometimes  Public_Transportation     Obesity_Type_III  \n",
       "4  0.931721  Sometimes  Public_Transportation  Overweight_Level_II  "
      ]
     },
     "execution_count": 5,
     "metadata": {},
     "output_type": "execute_result"
    }
   ],
   "source": [
    "#head data\n",
    "df_train.head()"
   ]
  },
  {
   "cell_type": "code",
   "execution_count": 6,
   "id": "af482cd9",
   "metadata": {
    "execution": {
     "iopub.execute_input": "2024-09-15T17:16:04.731741Z",
     "iopub.status.busy": "2024-09-15T17:16:04.731029Z",
     "iopub.status.idle": "2024-09-15T17:16:04.757786Z",
     "shell.execute_reply": "2024-09-15T17:16:04.756667Z",
     "shell.execute_reply.started": "2024-09-15T17:16:04.731701Z"
    },
    "scrolled": true
   },
   "outputs": [
    {
     "data": {
      "text/html": [
       "<div>\n",
       "<style scoped>\n",
       "    .dataframe tbody tr th:only-of-type {\n",
       "        vertical-align: middle;\n",
       "    }\n",
       "\n",
       "    .dataframe tbody tr th {\n",
       "        vertical-align: top;\n",
       "    }\n",
       "\n",
       "    .dataframe thead th {\n",
       "        text-align: right;\n",
       "    }\n",
       "</style>\n",
       "<table border=\"1\" class=\"dataframe\">\n",
       "  <thead>\n",
       "    <tr style=\"text-align: right;\">\n",
       "      <th></th>\n",
       "      <th>id</th>\n",
       "      <th>Gender</th>\n",
       "      <th>Age</th>\n",
       "      <th>Height</th>\n",
       "      <th>Weight</th>\n",
       "      <th>family_history_with_overweight</th>\n",
       "      <th>FAVC</th>\n",
       "      <th>FCVC</th>\n",
       "      <th>NCP</th>\n",
       "      <th>CAEC</th>\n",
       "      <th>SMOKE</th>\n",
       "      <th>CH2O</th>\n",
       "      <th>SCC</th>\n",
       "      <th>FAF</th>\n",
       "      <th>TUE</th>\n",
       "      <th>CALC</th>\n",
       "      <th>MTRANS</th>\n",
       "      <th>NObeyesdad</th>\n",
       "    </tr>\n",
       "  </thead>\n",
       "  <tbody>\n",
       "    <tr>\n",
       "      <th>20753</th>\n",
       "      <td>20753</td>\n",
       "      <td>Male</td>\n",
       "      <td>25.137087</td>\n",
       "      <td>1.766626</td>\n",
       "      <td>114.187096</td>\n",
       "      <td>yes</td>\n",
       "      <td>yes</td>\n",
       "      <td>2.919584</td>\n",
       "      <td>3.000000</td>\n",
       "      <td>Sometimes</td>\n",
       "      <td>no</td>\n",
       "      <td>2.151809</td>\n",
       "      <td>no</td>\n",
       "      <td>1.330519</td>\n",
       "      <td>0.196680</td>\n",
       "      <td>Sometimes</td>\n",
       "      <td>Public_Transportation</td>\n",
       "      <td>Obesity_Type_II</td>\n",
       "    </tr>\n",
       "    <tr>\n",
       "      <th>20754</th>\n",
       "      <td>20754</td>\n",
       "      <td>Male</td>\n",
       "      <td>18.000000</td>\n",
       "      <td>1.710000</td>\n",
       "      <td>50.000000</td>\n",
       "      <td>no</td>\n",
       "      <td>yes</td>\n",
       "      <td>3.000000</td>\n",
       "      <td>4.000000</td>\n",
       "      <td>Frequently</td>\n",
       "      <td>no</td>\n",
       "      <td>1.000000</td>\n",
       "      <td>no</td>\n",
       "      <td>2.000000</td>\n",
       "      <td>1.000000</td>\n",
       "      <td>Sometimes</td>\n",
       "      <td>Public_Transportation</td>\n",
       "      <td>Insufficient_Weight</td>\n",
       "    </tr>\n",
       "    <tr>\n",
       "      <th>20755</th>\n",
       "      <td>20755</td>\n",
       "      <td>Male</td>\n",
       "      <td>20.101026</td>\n",
       "      <td>1.819557</td>\n",
       "      <td>105.580491</td>\n",
       "      <td>yes</td>\n",
       "      <td>yes</td>\n",
       "      <td>2.407817</td>\n",
       "      <td>3.000000</td>\n",
       "      <td>Sometimes</td>\n",
       "      <td>no</td>\n",
       "      <td>2.000000</td>\n",
       "      <td>no</td>\n",
       "      <td>1.158040</td>\n",
       "      <td>1.198439</td>\n",
       "      <td>no</td>\n",
       "      <td>Public_Transportation</td>\n",
       "      <td>Obesity_Type_II</td>\n",
       "    </tr>\n",
       "    <tr>\n",
       "      <th>20756</th>\n",
       "      <td>20756</td>\n",
       "      <td>Male</td>\n",
       "      <td>33.852953</td>\n",
       "      <td>1.700000</td>\n",
       "      <td>83.520113</td>\n",
       "      <td>yes</td>\n",
       "      <td>yes</td>\n",
       "      <td>2.671238</td>\n",
       "      <td>1.971472</td>\n",
       "      <td>Sometimes</td>\n",
       "      <td>no</td>\n",
       "      <td>2.144838</td>\n",
       "      <td>no</td>\n",
       "      <td>0.000000</td>\n",
       "      <td>0.973834</td>\n",
       "      <td>no</td>\n",
       "      <td>Automobile</td>\n",
       "      <td>Overweight_Level_II</td>\n",
       "    </tr>\n",
       "    <tr>\n",
       "      <th>20757</th>\n",
       "      <td>20757</td>\n",
       "      <td>Male</td>\n",
       "      <td>26.680376</td>\n",
       "      <td>1.816547</td>\n",
       "      <td>118.134898</td>\n",
       "      <td>yes</td>\n",
       "      <td>yes</td>\n",
       "      <td>3.000000</td>\n",
       "      <td>3.000000</td>\n",
       "      <td>Sometimes</td>\n",
       "      <td>no</td>\n",
       "      <td>2.003563</td>\n",
       "      <td>no</td>\n",
       "      <td>0.684487</td>\n",
       "      <td>0.713823</td>\n",
       "      <td>Sometimes</td>\n",
       "      <td>Public_Transportation</td>\n",
       "      <td>Obesity_Type_II</td>\n",
       "    </tr>\n",
       "  </tbody>\n",
       "</table>\n",
       "</div>"
      ],
      "text/plain": [
       "          id Gender        Age    Height      Weight  \\\n",
       "20753  20753   Male  25.137087  1.766626  114.187096   \n",
       "20754  20754   Male  18.000000  1.710000   50.000000   \n",
       "20755  20755   Male  20.101026  1.819557  105.580491   \n",
       "20756  20756   Male  33.852953  1.700000   83.520113   \n",
       "20757  20757   Male  26.680376  1.816547  118.134898   \n",
       "\n",
       "      family_history_with_overweight FAVC      FCVC       NCP        CAEC  \\\n",
       "20753                            yes  yes  2.919584  3.000000   Sometimes   \n",
       "20754                             no  yes  3.000000  4.000000  Frequently   \n",
       "20755                            yes  yes  2.407817  3.000000   Sometimes   \n",
       "20756                            yes  yes  2.671238  1.971472   Sometimes   \n",
       "20757                            yes  yes  3.000000  3.000000   Sometimes   \n",
       "\n",
       "      SMOKE      CH2O SCC       FAF       TUE       CALC  \\\n",
       "20753    no  2.151809  no  1.330519  0.196680  Sometimes   \n",
       "20754    no  1.000000  no  2.000000  1.000000  Sometimes   \n",
       "20755    no  2.000000  no  1.158040  1.198439         no   \n",
       "20756    no  2.144838  no  0.000000  0.973834         no   \n",
       "20757    no  2.003563  no  0.684487  0.713823  Sometimes   \n",
       "\n",
       "                      MTRANS           NObeyesdad  \n",
       "20753  Public_Transportation      Obesity_Type_II  \n",
       "20754  Public_Transportation  Insufficient_Weight  \n",
       "20755  Public_Transportation      Obesity_Type_II  \n",
       "20756             Automobile  Overweight_Level_II  \n",
       "20757  Public_Transportation      Obesity_Type_II  "
      ]
     },
     "execution_count": 6,
     "metadata": {},
     "output_type": "execute_result"
    }
   ],
   "source": [
    "#last data\n",
    "df_train.tail()"
   ]
  },
  {
   "cell_type": "code",
   "execution_count": 7,
   "id": "2c496bbf",
   "metadata": {
    "execution": {
     "iopub.execute_input": "2024-09-15T17:16:04.759760Z",
     "iopub.status.busy": "2024-09-15T17:16:04.759215Z",
     "iopub.status.idle": "2024-09-15T17:16:04.782947Z",
     "shell.execute_reply": "2024-09-15T17:16:04.781817Z",
     "shell.execute_reply.started": "2024-09-15T17:16:04.759707Z"
    },
    "scrolled": true
   },
   "outputs": [
    {
     "data": {
      "text/html": [
       "<div>\n",
       "<style scoped>\n",
       "    .dataframe tbody tr th:only-of-type {\n",
       "        vertical-align: middle;\n",
       "    }\n",
       "\n",
       "    .dataframe tbody tr th {\n",
       "        vertical-align: top;\n",
       "    }\n",
       "\n",
       "    .dataframe thead th {\n",
       "        text-align: right;\n",
       "    }\n",
       "</style>\n",
       "<table border=\"1\" class=\"dataframe\">\n",
       "  <thead>\n",
       "    <tr style=\"text-align: right;\">\n",
       "      <th></th>\n",
       "      <th>id</th>\n",
       "      <th>Gender</th>\n",
       "      <th>Age</th>\n",
       "      <th>Height</th>\n",
       "      <th>Weight</th>\n",
       "      <th>family_history_with_overweight</th>\n",
       "      <th>FAVC</th>\n",
       "      <th>FCVC</th>\n",
       "      <th>NCP</th>\n",
       "      <th>CAEC</th>\n",
       "      <th>SMOKE</th>\n",
       "      <th>CH2O</th>\n",
       "      <th>SCC</th>\n",
       "      <th>FAF</th>\n",
       "      <th>TUE</th>\n",
       "      <th>CALC</th>\n",
       "      <th>MTRANS</th>\n",
       "      <th>NObeyesdad</th>\n",
       "    </tr>\n",
       "  </thead>\n",
       "  <tbody>\n",
       "    <tr>\n",
       "      <th>1336</th>\n",
       "      <td>1336</td>\n",
       "      <td>Male</td>\n",
       "      <td>30.02019</td>\n",
       "      <td>1.751691</td>\n",
       "      <td>112.010504</td>\n",
       "      <td>yes</td>\n",
       "      <td>yes</td>\n",
       "      <td>1.626369</td>\n",
       "      <td>3.0</td>\n",
       "      <td>Sometimes</td>\n",
       "      <td>no</td>\n",
       "      <td>2.041536</td>\n",
       "      <td>no</td>\n",
       "      <td>0.935217</td>\n",
       "      <td>0.000000</td>\n",
       "      <td>Sometimes</td>\n",
       "      <td>Automobile</td>\n",
       "      <td>Obesity_Type_II</td>\n",
       "    </tr>\n",
       "    <tr>\n",
       "      <th>14564</th>\n",
       "      <td>14564</td>\n",
       "      <td>Female</td>\n",
       "      <td>26.00000</td>\n",
       "      <td>1.657820</td>\n",
       "      <td>111.956110</td>\n",
       "      <td>yes</td>\n",
       "      <td>yes</td>\n",
       "      <td>3.000000</td>\n",
       "      <td>3.0</td>\n",
       "      <td>Sometimes</td>\n",
       "      <td>no</td>\n",
       "      <td>2.770125</td>\n",
       "      <td>no</td>\n",
       "      <td>0.000000</td>\n",
       "      <td>0.153669</td>\n",
       "      <td>Sometimes</td>\n",
       "      <td>Public_Transportation</td>\n",
       "      <td>Obesity_Type_III</td>\n",
       "    </tr>\n",
       "    <tr>\n",
       "      <th>14995</th>\n",
       "      <td>14995</td>\n",
       "      <td>Male</td>\n",
       "      <td>18.00000</td>\n",
       "      <td>1.806710</td>\n",
       "      <td>108.800964</td>\n",
       "      <td>yes</td>\n",
       "      <td>yes</td>\n",
       "      <td>2.000000</td>\n",
       "      <td>3.0</td>\n",
       "      <td>Sometimes</td>\n",
       "      <td>no</td>\n",
       "      <td>2.000000</td>\n",
       "      <td>no</td>\n",
       "      <td>1.000000</td>\n",
       "      <td>1.731070</td>\n",
       "      <td>no</td>\n",
       "      <td>Public_Transportation</td>\n",
       "      <td>Obesity_Type_I</td>\n",
       "    </tr>\n",
       "    <tr>\n",
       "      <th>7554</th>\n",
       "      <td>7554</td>\n",
       "      <td>Male</td>\n",
       "      <td>25.01277</td>\n",
       "      <td>1.828276</td>\n",
       "      <td>118.377601</td>\n",
       "      <td>yes</td>\n",
       "      <td>yes</td>\n",
       "      <td>2.766612</td>\n",
       "      <td>3.0</td>\n",
       "      <td>Sometimes</td>\n",
       "      <td>no</td>\n",
       "      <td>1.000000</td>\n",
       "      <td>no</td>\n",
       "      <td>1.055450</td>\n",
       "      <td>0.078207</td>\n",
       "      <td>Sometimes</td>\n",
       "      <td>Public_Transportation</td>\n",
       "      <td>Obesity_Type_II</td>\n",
       "    </tr>\n",
       "    <tr>\n",
       "      <th>4134</th>\n",
       "      <td>4134</td>\n",
       "      <td>Male</td>\n",
       "      <td>20.00000</td>\n",
       "      <td>1.700000</td>\n",
       "      <td>55.300000</td>\n",
       "      <td>yes</td>\n",
       "      <td>yes</td>\n",
       "      <td>2.000000</td>\n",
       "      <td>3.0</td>\n",
       "      <td>Frequently</td>\n",
       "      <td>no</td>\n",
       "      <td>2.000000</td>\n",
       "      <td>no</td>\n",
       "      <td>3.000000</td>\n",
       "      <td>2.000000</td>\n",
       "      <td>Sometimes</td>\n",
       "      <td>Public_Transportation</td>\n",
       "      <td>Insufficient_Weight</td>\n",
       "    </tr>\n",
       "  </tbody>\n",
       "</table>\n",
       "</div>"
      ],
      "text/plain": [
       "          id  Gender       Age    Height      Weight  \\\n",
       "1336    1336    Male  30.02019  1.751691  112.010504   \n",
       "14564  14564  Female  26.00000  1.657820  111.956110   \n",
       "14995  14995    Male  18.00000  1.806710  108.800964   \n",
       "7554    7554    Male  25.01277  1.828276  118.377601   \n",
       "4134    4134    Male  20.00000  1.700000   55.300000   \n",
       "\n",
       "      family_history_with_overweight FAVC      FCVC  NCP        CAEC SMOKE  \\\n",
       "1336                             yes  yes  1.626369  3.0   Sometimes    no   \n",
       "14564                            yes  yes  3.000000  3.0   Sometimes    no   \n",
       "14995                            yes  yes  2.000000  3.0   Sometimes    no   \n",
       "7554                             yes  yes  2.766612  3.0   Sometimes    no   \n",
       "4134                             yes  yes  2.000000  3.0  Frequently    no   \n",
       "\n",
       "           CH2O SCC       FAF       TUE       CALC                 MTRANS  \\\n",
       "1336   2.041536  no  0.935217  0.000000  Sometimes             Automobile   \n",
       "14564  2.770125  no  0.000000  0.153669  Sometimes  Public_Transportation   \n",
       "14995  2.000000  no  1.000000  1.731070         no  Public_Transportation   \n",
       "7554   1.000000  no  1.055450  0.078207  Sometimes  Public_Transportation   \n",
       "4134   2.000000  no  3.000000  2.000000  Sometimes  Public_Transportation   \n",
       "\n",
       "                NObeyesdad  \n",
       "1336       Obesity_Type_II  \n",
       "14564     Obesity_Type_III  \n",
       "14995       Obesity_Type_I  \n",
       "7554       Obesity_Type_II  \n",
       "4134   Insufficient_Weight  "
      ]
     },
     "execution_count": 7,
     "metadata": {},
     "output_type": "execute_result"
    }
   ],
   "source": [
    "#sample  data\n",
    "df_train.sample(5)"
   ]
  },
  {
   "cell_type": "code",
   "execution_count": null,
   "id": "9afc7be5",
   "metadata": {},
   "outputs": [],
   "source": []
  },
  {
   "cell_type": "code",
   "execution_count": 8,
   "id": "35cf7a73",
   "metadata": {
    "execution": {
     "iopub.execute_input": "2024-09-15T17:16:04.784600Z",
     "iopub.status.busy": "2024-09-15T17:16:04.784234Z",
     "iopub.status.idle": "2024-09-15T17:16:04.791601Z",
     "shell.execute_reply": "2024-09-15T17:16:04.790480Z",
     "shell.execute_reply.started": "2024-09-15T17:16:04.784555Z"
    }
   },
   "outputs": [
    {
     "data": {
      "text/plain": [
       "(20758, 18)"
      ]
     },
     "execution_count": 8,
     "metadata": {},
     "output_type": "execute_result"
    }
   ],
   "source": [
    "#shape dataset\n",
    "df_train.shape"
   ]
  },
  {
   "cell_type": "code",
   "execution_count": 9,
   "id": "99d45d47",
   "metadata": {
    "execution": {
     "iopub.execute_input": "2024-09-15T17:16:04.793460Z",
     "iopub.status.busy": "2024-09-15T17:16:04.793081Z",
     "iopub.status.idle": "2024-09-15T17:16:04.801809Z",
     "shell.execute_reply": "2024-09-15T17:16:04.800791Z",
     "shell.execute_reply.started": "2024-09-15T17:16:04.793403Z"
    }
   },
   "outputs": [
    {
     "data": {
      "text/plain": [
       "Index(['id', 'Gender', 'Age', 'Height', 'Weight',\n",
       "       'family_history_with_overweight', 'FAVC', 'FCVC', 'NCP', 'CAEC',\n",
       "       'SMOKE', 'CH2O', 'SCC', 'FAF', 'TUE', 'CALC', 'MTRANS', 'NObeyesdad'],\n",
       "      dtype='object')"
      ]
     },
     "execution_count": 9,
     "metadata": {},
     "output_type": "execute_result"
    }
   ],
   "source": [
    "#name columns\n",
    "df_train.columns"
   ]
  },
  {
   "cell_type": "code",
   "execution_count": 10,
   "id": "475b52ea",
   "metadata": {
    "execution": {
     "iopub.execute_input": "2024-09-15T17:16:04.803578Z",
     "iopub.status.busy": "2024-09-15T17:16:04.803164Z",
     "iopub.status.idle": "2024-09-15T17:16:04.837755Z",
     "shell.execute_reply": "2024-09-15T17:16:04.836754Z",
     "shell.execute_reply.started": "2024-09-15T17:16:04.803540Z"
    }
   },
   "outputs": [
    {
     "name": "stdout",
     "output_type": "stream",
     "text": [
      "<class 'pandas.core.frame.DataFrame'>\n",
      "RangeIndex: 20758 entries, 0 to 20757\n",
      "Data columns (total 18 columns):\n",
      " #   Column                          Non-Null Count  Dtype  \n",
      "---  ------                          --------------  -----  \n",
      " 0   id                              20758 non-null  int64  \n",
      " 1   Gender                          20758 non-null  object \n",
      " 2   Age                             20758 non-null  float64\n",
      " 3   Height                          20758 non-null  float64\n",
      " 4   Weight                          20758 non-null  float64\n",
      " 5   family_history_with_overweight  20758 non-null  object \n",
      " 6   FAVC                            20758 non-null  object \n",
      " 7   FCVC                            20758 non-null  float64\n",
      " 8   NCP                             20758 non-null  float64\n",
      " 9   CAEC                            20758 non-null  object \n",
      " 10  SMOKE                           20758 non-null  object \n",
      " 11  CH2O                            20758 non-null  float64\n",
      " 12  SCC                             20758 non-null  object \n",
      " 13  FAF                             20758 non-null  float64\n",
      " 14  TUE                             20758 non-null  float64\n",
      " 15  CALC                            20758 non-null  object \n",
      " 16  MTRANS                          20758 non-null  object \n",
      " 17  NObeyesdad                      20758 non-null  object \n",
      "dtypes: float64(8), int64(1), object(9)\n",
      "memory usage: 2.9+ MB\n"
     ]
    }
   ],
   "source": [
    "# informatoin about datset\n",
    "df_train.info()"
   ]
  },
  {
   "cell_type": "code",
   "execution_count": 11,
   "id": "ca98bb1a",
   "metadata": {
    "execution": {
     "iopub.execute_input": "2024-09-15T17:16:04.840099Z",
     "iopub.status.busy": "2024-09-15T17:16:04.839823Z",
     "iopub.status.idle": "2024-09-15T17:16:04.867847Z",
     "shell.execute_reply": "2024-09-15T17:16:04.866787Z",
     "shell.execute_reply.started": "2024-09-15T17:16:04.840068Z"
    }
   },
   "outputs": [
    {
     "data": {
      "text/plain": [
       "id                                0\n",
       "Gender                            0\n",
       "Age                               0\n",
       "Height                            0\n",
       "Weight                            0\n",
       "family_history_with_overweight    0\n",
       "FAVC                              0\n",
       "FCVC                              0\n",
       "NCP                               0\n",
       "CAEC                              0\n",
       "SMOKE                             0\n",
       "CH2O                              0\n",
       "SCC                               0\n",
       "FAF                               0\n",
       "TUE                               0\n",
       "CALC                              0\n",
       "MTRANS                            0\n",
       "NObeyesdad                        0\n",
       "dtype: int64"
      ]
     },
     "execution_count": 11,
     "metadata": {},
     "output_type": "execute_result"
    }
   ],
   "source": [
    "#check is null\n",
    "df_train.isnull().sum()"
   ]
  },
  {
   "cell_type": "code",
   "execution_count": 12,
   "id": "e9c0886d",
   "metadata": {
    "execution": {
     "iopub.execute_input": "2024-09-15T17:16:04.869408Z",
     "iopub.status.busy": "2024-09-15T17:16:04.869085Z",
     "iopub.status.idle": "2024-09-15T17:16:04.901796Z",
     "shell.execute_reply": "2024-09-15T17:16:04.900880Z",
     "shell.execute_reply.started": "2024-09-15T17:16:04.869372Z"
    }
   },
   "outputs": [
    {
     "data": {
      "text/plain": [
       "0"
      ]
     },
     "execution_count": 12,
     "metadata": {},
     "output_type": "execute_result"
    }
   ],
   "source": [
    "#check is dubplicated\n",
    "df_train.duplicated().sum()"
   ]
  },
  {
   "cell_type": "code",
   "execution_count": 13,
   "id": "dc20f88c",
   "metadata": {
    "execution": {
     "iopub.execute_input": "2024-09-15T17:16:04.909045Z",
     "iopub.status.busy": "2024-09-15T17:16:04.908375Z",
     "iopub.status.idle": "2024-09-15T17:16:04.949576Z",
     "shell.execute_reply": "2024-09-15T17:16:04.948663Z",
     "shell.execute_reply.started": "2024-09-15T17:16:04.908996Z"
    }
   },
   "outputs": [
    {
     "data": {
      "text/html": [
       "<div>\n",
       "<style scoped>\n",
       "    .dataframe tbody tr th:only-of-type {\n",
       "        vertical-align: middle;\n",
       "    }\n",
       "\n",
       "    .dataframe tbody tr th {\n",
       "        vertical-align: top;\n",
       "    }\n",
       "\n",
       "    .dataframe thead th {\n",
       "        text-align: right;\n",
       "    }\n",
       "</style>\n",
       "<table border=\"1\" class=\"dataframe\">\n",
       "  <thead>\n",
       "    <tr style=\"text-align: right;\">\n",
       "      <th></th>\n",
       "      <th>id</th>\n",
       "      <th>Age</th>\n",
       "      <th>Height</th>\n",
       "      <th>Weight</th>\n",
       "      <th>FCVC</th>\n",
       "      <th>NCP</th>\n",
       "      <th>CH2O</th>\n",
       "      <th>FAF</th>\n",
       "      <th>TUE</th>\n",
       "    </tr>\n",
       "  </thead>\n",
       "  <tbody>\n",
       "    <tr>\n",
       "      <th>count</th>\n",
       "      <td>20758.00000</td>\n",
       "      <td>20758.000000</td>\n",
       "      <td>20758.000000</td>\n",
       "      <td>20758.000000</td>\n",
       "      <td>20758.000000</td>\n",
       "      <td>20758.000000</td>\n",
       "      <td>20758.000000</td>\n",
       "      <td>20758.000000</td>\n",
       "      <td>20758.000000</td>\n",
       "    </tr>\n",
       "    <tr>\n",
       "      <th>mean</th>\n",
       "      <td>10378.50000</td>\n",
       "      <td>23.841804</td>\n",
       "      <td>1.700245</td>\n",
       "      <td>87.887768</td>\n",
       "      <td>2.445908</td>\n",
       "      <td>2.761332</td>\n",
       "      <td>2.029418</td>\n",
       "      <td>0.981747</td>\n",
       "      <td>0.616756</td>\n",
       "    </tr>\n",
       "    <tr>\n",
       "      <th>std</th>\n",
       "      <td>5992.46278</td>\n",
       "      <td>5.688072</td>\n",
       "      <td>0.087312</td>\n",
       "      <td>26.379443</td>\n",
       "      <td>0.533218</td>\n",
       "      <td>0.705375</td>\n",
       "      <td>0.608467</td>\n",
       "      <td>0.838302</td>\n",
       "      <td>0.602113</td>\n",
       "    </tr>\n",
       "    <tr>\n",
       "      <th>min</th>\n",
       "      <td>0.00000</td>\n",
       "      <td>14.000000</td>\n",
       "      <td>1.450000</td>\n",
       "      <td>39.000000</td>\n",
       "      <td>1.000000</td>\n",
       "      <td>1.000000</td>\n",
       "      <td>1.000000</td>\n",
       "      <td>0.000000</td>\n",
       "      <td>0.000000</td>\n",
       "    </tr>\n",
       "    <tr>\n",
       "      <th>25%</th>\n",
       "      <td>5189.25000</td>\n",
       "      <td>20.000000</td>\n",
       "      <td>1.631856</td>\n",
       "      <td>66.000000</td>\n",
       "      <td>2.000000</td>\n",
       "      <td>3.000000</td>\n",
       "      <td>1.792022</td>\n",
       "      <td>0.008013</td>\n",
       "      <td>0.000000</td>\n",
       "    </tr>\n",
       "    <tr>\n",
       "      <th>50%</th>\n",
       "      <td>10378.50000</td>\n",
       "      <td>22.815416</td>\n",
       "      <td>1.700000</td>\n",
       "      <td>84.064875</td>\n",
       "      <td>2.393837</td>\n",
       "      <td>3.000000</td>\n",
       "      <td>2.000000</td>\n",
       "      <td>1.000000</td>\n",
       "      <td>0.573887</td>\n",
       "    </tr>\n",
       "    <tr>\n",
       "      <th>75%</th>\n",
       "      <td>15567.75000</td>\n",
       "      <td>26.000000</td>\n",
       "      <td>1.762887</td>\n",
       "      <td>111.600553</td>\n",
       "      <td>3.000000</td>\n",
       "      <td>3.000000</td>\n",
       "      <td>2.549617</td>\n",
       "      <td>1.587406</td>\n",
       "      <td>1.000000</td>\n",
       "    </tr>\n",
       "    <tr>\n",
       "      <th>max</th>\n",
       "      <td>20757.00000</td>\n",
       "      <td>61.000000</td>\n",
       "      <td>1.975663</td>\n",
       "      <td>165.057269</td>\n",
       "      <td>3.000000</td>\n",
       "      <td>4.000000</td>\n",
       "      <td>3.000000</td>\n",
       "      <td>3.000000</td>\n",
       "      <td>2.000000</td>\n",
       "    </tr>\n",
       "  </tbody>\n",
       "</table>\n",
       "</div>"
      ],
      "text/plain": [
       "                id           Age        Height        Weight          FCVC  \\\n",
       "count  20758.00000  20758.000000  20758.000000  20758.000000  20758.000000   \n",
       "mean   10378.50000     23.841804      1.700245     87.887768      2.445908   \n",
       "std     5992.46278      5.688072      0.087312     26.379443      0.533218   \n",
       "min        0.00000     14.000000      1.450000     39.000000      1.000000   \n",
       "25%     5189.25000     20.000000      1.631856     66.000000      2.000000   \n",
       "50%    10378.50000     22.815416      1.700000     84.064875      2.393837   \n",
       "75%    15567.75000     26.000000      1.762887    111.600553      3.000000   \n",
       "max    20757.00000     61.000000      1.975663    165.057269      3.000000   \n",
       "\n",
       "                NCP          CH2O           FAF           TUE  \n",
       "count  20758.000000  20758.000000  20758.000000  20758.000000  \n",
       "mean       2.761332      2.029418      0.981747      0.616756  \n",
       "std        0.705375      0.608467      0.838302      0.602113  \n",
       "min        1.000000      1.000000      0.000000      0.000000  \n",
       "25%        3.000000      1.792022      0.008013      0.000000  \n",
       "50%        3.000000      2.000000      1.000000      0.573887  \n",
       "75%        3.000000      2.549617      1.587406      1.000000  \n",
       "max        4.000000      3.000000      3.000000      2.000000  "
      ]
     },
     "execution_count": 13,
     "metadata": {},
     "output_type": "execute_result"
    }
   ],
   "source": [
    "# Summary statistics for numerical features\n",
    "df_train.describe()"
   ]
  },
  {
   "cell_type": "code",
   "execution_count": 14,
   "id": "5c1c173d",
   "metadata": {
    "execution": {
     "iopub.execute_input": "2024-09-15T17:16:04.951297Z",
     "iopub.status.busy": "2024-09-15T17:16:04.950912Z",
     "iopub.status.idle": "2024-09-15T17:16:05.021250Z",
     "shell.execute_reply": "2024-09-15T17:16:05.020386Z",
     "shell.execute_reply.started": "2024-09-15T17:16:04.951248Z"
    }
   },
   "outputs": [
    {
     "data": {
      "text/html": [
       "<div>\n",
       "<style scoped>\n",
       "    .dataframe tbody tr th:only-of-type {\n",
       "        vertical-align: middle;\n",
       "    }\n",
       "\n",
       "    .dataframe tbody tr th {\n",
       "        vertical-align: top;\n",
       "    }\n",
       "\n",
       "    .dataframe thead th {\n",
       "        text-align: right;\n",
       "    }\n",
       "</style>\n",
       "<table border=\"1\" class=\"dataframe\">\n",
       "  <thead>\n",
       "    <tr style=\"text-align: right;\">\n",
       "      <th></th>\n",
       "      <th>Gender</th>\n",
       "      <th>family_history_with_overweight</th>\n",
       "      <th>FAVC</th>\n",
       "      <th>CAEC</th>\n",
       "      <th>SMOKE</th>\n",
       "      <th>SCC</th>\n",
       "      <th>CALC</th>\n",
       "      <th>MTRANS</th>\n",
       "      <th>NObeyesdad</th>\n",
       "    </tr>\n",
       "  </thead>\n",
       "  <tbody>\n",
       "    <tr>\n",
       "      <th>count</th>\n",
       "      <td>20758</td>\n",
       "      <td>20758</td>\n",
       "      <td>20758</td>\n",
       "      <td>20758</td>\n",
       "      <td>20758</td>\n",
       "      <td>20758</td>\n",
       "      <td>20758</td>\n",
       "      <td>20758</td>\n",
       "      <td>20758</td>\n",
       "    </tr>\n",
       "    <tr>\n",
       "      <th>unique</th>\n",
       "      <td>2</td>\n",
       "      <td>2</td>\n",
       "      <td>2</td>\n",
       "      <td>4</td>\n",
       "      <td>2</td>\n",
       "      <td>2</td>\n",
       "      <td>3</td>\n",
       "      <td>5</td>\n",
       "      <td>7</td>\n",
       "    </tr>\n",
       "    <tr>\n",
       "      <th>top</th>\n",
       "      <td>Female</td>\n",
       "      <td>yes</td>\n",
       "      <td>yes</td>\n",
       "      <td>Sometimes</td>\n",
       "      <td>no</td>\n",
       "      <td>no</td>\n",
       "      <td>Sometimes</td>\n",
       "      <td>Public_Transportation</td>\n",
       "      <td>Obesity_Type_III</td>\n",
       "    </tr>\n",
       "    <tr>\n",
       "      <th>freq</th>\n",
       "      <td>10422</td>\n",
       "      <td>17014</td>\n",
       "      <td>18982</td>\n",
       "      <td>17529</td>\n",
       "      <td>20513</td>\n",
       "      <td>20071</td>\n",
       "      <td>15066</td>\n",
       "      <td>16687</td>\n",
       "      <td>4046</td>\n",
       "    </tr>\n",
       "  </tbody>\n",
       "</table>\n",
       "</div>"
      ],
      "text/plain": [
       "        Gender family_history_with_overweight   FAVC       CAEC  SMOKE    SCC  \\\n",
       "count    20758                          20758  20758      20758  20758  20758   \n",
       "unique       2                              2      2          4      2      2   \n",
       "top     Female                            yes    yes  Sometimes     no     no   \n",
       "freq     10422                          17014  18982      17529  20513  20071   \n",
       "\n",
       "             CALC                 MTRANS        NObeyesdad  \n",
       "count       20758                  20758             20758  \n",
       "unique          3                      5                 7  \n",
       "top     Sometimes  Public_Transportation  Obesity_Type_III  \n",
       "freq        15066                  16687              4046  "
      ]
     },
     "execution_count": 14,
     "metadata": {},
     "output_type": "execute_result"
    }
   ],
   "source": [
    "# Summary  for categorical features\n",
    "df_train.describe(include=\"object\")"
   ]
  },
  {
   "cell_type": "code",
   "execution_count": null,
   "id": "9e3502a3",
   "metadata": {},
   "outputs": [],
   "source": []
  },
  {
   "cell_type": "markdown",
   "id": "394c31ce",
   "metadata": {},
   "source": [
    "###### Transformation dataset"
   ]
  },
  {
   "cell_type": "code",
   "execution_count": 15,
   "id": "b7409276",
   "metadata": {
    "execution": {
     "iopub.execute_input": "2024-09-15T17:16:05.022564Z",
     "iopub.status.busy": "2024-09-15T17:16:05.022236Z",
     "iopub.status.idle": "2024-09-15T17:16:05.029257Z",
     "shell.execute_reply": "2024-09-15T17:16:05.028147Z",
     "shell.execute_reply.started": "2024-09-15T17:16:05.022514Z"
    }
   },
   "outputs": [],
   "source": [
    "# Select object-type columns\n",
    "object_columns = df_train.select_dtypes(include=\"object\")\n",
    "non_object_columns = df_train.select_dtypes(exclude=\"object\")\n"
   ]
  },
  {
   "cell_type": "code",
   "execution_count": 16,
   "id": "aff4708c",
   "metadata": {
    "execution": {
     "iopub.execute_input": "2024-09-15T17:16:05.030834Z",
     "iopub.status.busy": "2024-09-15T17:16:05.030510Z",
     "iopub.status.idle": "2024-09-15T17:16:05.046502Z",
     "shell.execute_reply": "2024-09-15T17:16:05.045630Z",
     "shell.execute_reply.started": "2024-09-15T17:16:05.030800Z"
    }
   },
   "outputs": [
    {
     "data": {
      "text/html": [
       "<div>\n",
       "<style scoped>\n",
       "    .dataframe tbody tr th:only-of-type {\n",
       "        vertical-align: middle;\n",
       "    }\n",
       "\n",
       "    .dataframe tbody tr th {\n",
       "        vertical-align: top;\n",
       "    }\n",
       "\n",
       "    .dataframe thead th {\n",
       "        text-align: right;\n",
       "    }\n",
       "</style>\n",
       "<table border=\"1\" class=\"dataframe\">\n",
       "  <thead>\n",
       "    <tr style=\"text-align: right;\">\n",
       "      <th></th>\n",
       "      <th>Gender</th>\n",
       "      <th>family_history_with_overweight</th>\n",
       "      <th>FAVC</th>\n",
       "      <th>CAEC</th>\n",
       "      <th>SMOKE</th>\n",
       "      <th>SCC</th>\n",
       "      <th>CALC</th>\n",
       "      <th>MTRANS</th>\n",
       "      <th>NObeyesdad</th>\n",
       "    </tr>\n",
       "  </thead>\n",
       "  <tbody>\n",
       "    <tr>\n",
       "      <th>0</th>\n",
       "      <td>Male</td>\n",
       "      <td>yes</td>\n",
       "      <td>yes</td>\n",
       "      <td>Sometimes</td>\n",
       "      <td>no</td>\n",
       "      <td>no</td>\n",
       "      <td>Sometimes</td>\n",
       "      <td>Public_Transportation</td>\n",
       "      <td>Overweight_Level_II</td>\n",
       "    </tr>\n",
       "    <tr>\n",
       "      <th>1</th>\n",
       "      <td>Female</td>\n",
       "      <td>yes</td>\n",
       "      <td>yes</td>\n",
       "      <td>Frequently</td>\n",
       "      <td>no</td>\n",
       "      <td>no</td>\n",
       "      <td>no</td>\n",
       "      <td>Automobile</td>\n",
       "      <td>Normal_Weight</td>\n",
       "    </tr>\n",
       "    <tr>\n",
       "      <th>2</th>\n",
       "      <td>Female</td>\n",
       "      <td>yes</td>\n",
       "      <td>yes</td>\n",
       "      <td>Sometimes</td>\n",
       "      <td>no</td>\n",
       "      <td>no</td>\n",
       "      <td>no</td>\n",
       "      <td>Public_Transportation</td>\n",
       "      <td>Insufficient_Weight</td>\n",
       "    </tr>\n",
       "    <tr>\n",
       "      <th>3</th>\n",
       "      <td>Female</td>\n",
       "      <td>yes</td>\n",
       "      <td>yes</td>\n",
       "      <td>Sometimes</td>\n",
       "      <td>no</td>\n",
       "      <td>no</td>\n",
       "      <td>Sometimes</td>\n",
       "      <td>Public_Transportation</td>\n",
       "      <td>Obesity_Type_III</td>\n",
       "    </tr>\n",
       "    <tr>\n",
       "      <th>4</th>\n",
       "      <td>Male</td>\n",
       "      <td>yes</td>\n",
       "      <td>yes</td>\n",
       "      <td>Sometimes</td>\n",
       "      <td>no</td>\n",
       "      <td>no</td>\n",
       "      <td>Sometimes</td>\n",
       "      <td>Public_Transportation</td>\n",
       "      <td>Overweight_Level_II</td>\n",
       "    </tr>\n",
       "  </tbody>\n",
       "</table>\n",
       "</div>"
      ],
      "text/plain": [
       "   Gender family_history_with_overweight FAVC        CAEC SMOKE SCC  \\\n",
       "0    Male                            yes  yes   Sometimes    no  no   \n",
       "1  Female                            yes  yes  Frequently    no  no   \n",
       "2  Female                            yes  yes   Sometimes    no  no   \n",
       "3  Female                            yes  yes   Sometimes    no  no   \n",
       "4    Male                            yes  yes   Sometimes    no  no   \n",
       "\n",
       "        CALC                 MTRANS           NObeyesdad  \n",
       "0  Sometimes  Public_Transportation  Overweight_Level_II  \n",
       "1         no             Automobile        Normal_Weight  \n",
       "2         no  Public_Transportation  Insufficient_Weight  \n",
       "3  Sometimes  Public_Transportation     Obesity_Type_III  \n",
       "4  Sometimes  Public_Transportation  Overweight_Level_II  "
      ]
     },
     "execution_count": 16,
     "metadata": {},
     "output_type": "execute_result"
    }
   ],
   "source": [
    "#show object_columns dataset\n",
    "object_columns.head()"
   ]
  },
  {
   "cell_type": "code",
   "execution_count": 17,
   "id": "48994128",
   "metadata": {
    "execution": {
     "iopub.execute_input": "2024-09-15T17:16:05.048092Z",
     "iopub.status.busy": "2024-09-15T17:16:05.047749Z",
     "iopub.status.idle": "2024-09-15T17:16:05.064441Z",
     "shell.execute_reply": "2024-09-15T17:16:05.063467Z",
     "shell.execute_reply.started": "2024-09-15T17:16:05.048057Z"
    }
   },
   "outputs": [
    {
     "data": {
      "text/html": [
       "<div>\n",
       "<style scoped>\n",
       "    .dataframe tbody tr th:only-of-type {\n",
       "        vertical-align: middle;\n",
       "    }\n",
       "\n",
       "    .dataframe tbody tr th {\n",
       "        vertical-align: top;\n",
       "    }\n",
       "\n",
       "    .dataframe thead th {\n",
       "        text-align: right;\n",
       "    }\n",
       "</style>\n",
       "<table border=\"1\" class=\"dataframe\">\n",
       "  <thead>\n",
       "    <tr style=\"text-align: right;\">\n",
       "      <th></th>\n",
       "      <th>id</th>\n",
       "      <th>Age</th>\n",
       "      <th>Height</th>\n",
       "      <th>Weight</th>\n",
       "      <th>FCVC</th>\n",
       "      <th>NCP</th>\n",
       "      <th>CH2O</th>\n",
       "      <th>FAF</th>\n",
       "      <th>TUE</th>\n",
       "    </tr>\n",
       "  </thead>\n",
       "  <tbody>\n",
       "    <tr>\n",
       "      <th>0</th>\n",
       "      <td>0</td>\n",
       "      <td>24.443011</td>\n",
       "      <td>1.699998</td>\n",
       "      <td>81.669950</td>\n",
       "      <td>2.000000</td>\n",
       "      <td>2.983297</td>\n",
       "      <td>2.763573</td>\n",
       "      <td>0.000000</td>\n",
       "      <td>0.976473</td>\n",
       "    </tr>\n",
       "    <tr>\n",
       "      <th>1</th>\n",
       "      <td>1</td>\n",
       "      <td>18.000000</td>\n",
       "      <td>1.560000</td>\n",
       "      <td>57.000000</td>\n",
       "      <td>2.000000</td>\n",
       "      <td>3.000000</td>\n",
       "      <td>2.000000</td>\n",
       "      <td>1.000000</td>\n",
       "      <td>1.000000</td>\n",
       "    </tr>\n",
       "    <tr>\n",
       "      <th>2</th>\n",
       "      <td>2</td>\n",
       "      <td>18.000000</td>\n",
       "      <td>1.711460</td>\n",
       "      <td>50.165754</td>\n",
       "      <td>1.880534</td>\n",
       "      <td>1.411685</td>\n",
       "      <td>1.910378</td>\n",
       "      <td>0.866045</td>\n",
       "      <td>1.673584</td>\n",
       "    </tr>\n",
       "    <tr>\n",
       "      <th>3</th>\n",
       "      <td>3</td>\n",
       "      <td>20.952737</td>\n",
       "      <td>1.710730</td>\n",
       "      <td>131.274851</td>\n",
       "      <td>3.000000</td>\n",
       "      <td>3.000000</td>\n",
       "      <td>1.674061</td>\n",
       "      <td>1.467863</td>\n",
       "      <td>0.780199</td>\n",
       "    </tr>\n",
       "    <tr>\n",
       "      <th>4</th>\n",
       "      <td>4</td>\n",
       "      <td>31.641081</td>\n",
       "      <td>1.914186</td>\n",
       "      <td>93.798055</td>\n",
       "      <td>2.679664</td>\n",
       "      <td>1.971472</td>\n",
       "      <td>1.979848</td>\n",
       "      <td>1.967973</td>\n",
       "      <td>0.931721</td>\n",
       "    </tr>\n",
       "  </tbody>\n",
       "</table>\n",
       "</div>"
      ],
      "text/plain": [
       "   id        Age    Height      Weight      FCVC       NCP      CH2O  \\\n",
       "0   0  24.443011  1.699998   81.669950  2.000000  2.983297  2.763573   \n",
       "1   1  18.000000  1.560000   57.000000  2.000000  3.000000  2.000000   \n",
       "2   2  18.000000  1.711460   50.165754  1.880534  1.411685  1.910378   \n",
       "3   3  20.952737  1.710730  131.274851  3.000000  3.000000  1.674061   \n",
       "4   4  31.641081  1.914186   93.798055  2.679664  1.971472  1.979848   \n",
       "\n",
       "        FAF       TUE  \n",
       "0  0.000000  0.976473  \n",
       "1  1.000000  1.000000  \n",
       "2  0.866045  1.673584  \n",
       "3  1.467863  0.780199  \n",
       "4  1.967973  0.931721  "
      ]
     },
     "execution_count": 17,
     "metadata": {},
     "output_type": "execute_result"
    }
   ],
   "source": [
    "#show non_object_columns dataset\n",
    "non_object_columns.head()"
   ]
  },
  {
   "cell_type": "code",
   "execution_count": null,
   "id": "92e97508",
   "metadata": {},
   "outputs": [],
   "source": []
  },
  {
   "cell_type": "code",
   "execution_count": 18,
   "id": "d4870e3d",
   "metadata": {
    "execution": {
     "iopub.execute_input": "2024-09-15T17:16:05.065975Z",
     "iopub.status.busy": "2024-09-15T17:16:05.065697Z",
     "iopub.status.idle": "2024-09-15T17:16:05.101776Z",
     "shell.execute_reply": "2024-09-15T17:16:05.100627Z",
     "shell.execute_reply.started": "2024-09-15T17:16:05.065944Z"
    }
   },
   "outputs": [
    {
     "name": "stdout",
     "output_type": "stream",
     "text": [
      "column Gender : \n",
      "Gender\n",
      "Female    10422\n",
      "Male      10336\n",
      "Name: count, dtype: int64\n",
      "______________________________\n",
      "\n",
      "column family_history_with_overweight : \n",
      "family_history_with_overweight\n",
      "yes    17014\n",
      "no      3744\n",
      "Name: count, dtype: int64\n",
      "______________________________\n",
      "\n",
      "column FAVC : \n",
      "FAVC\n",
      "yes    18982\n",
      "no      1776\n",
      "Name: count, dtype: int64\n",
      "______________________________\n",
      "\n",
      "column CAEC : \n",
      "CAEC\n",
      "Sometimes     17529\n",
      "Frequently     2472\n",
      "Always          478\n",
      "no              279\n",
      "Name: count, dtype: int64\n",
      "______________________________\n",
      "\n",
      "column SMOKE : \n",
      "SMOKE\n",
      "no     20513\n",
      "yes      245\n",
      "Name: count, dtype: int64\n",
      "______________________________\n",
      "\n",
      "column SCC : \n",
      "SCC\n",
      "no     20071\n",
      "yes      687\n",
      "Name: count, dtype: int64\n",
      "______________________________\n",
      "\n",
      "column CALC : \n",
      "CALC\n",
      "Sometimes     15066\n",
      "no             5163\n",
      "Frequently      529\n",
      "Name: count, dtype: int64\n",
      "______________________________\n",
      "\n",
      "column MTRANS : \n",
      "MTRANS\n",
      "Public_Transportation    16687\n",
      "Automobile                3534\n",
      "Walking                    467\n",
      "Motorbike                   38\n",
      "Bike                        32\n",
      "Name: count, dtype: int64\n",
      "______________________________\n",
      "\n",
      "column NObeyesdad : \n",
      "NObeyesdad\n",
      "Obesity_Type_III       4046\n",
      "Obesity_Type_II        3248\n",
      "Normal_Weight          3082\n",
      "Obesity_Type_I         2910\n",
      "Insufficient_Weight    2523\n",
      "Overweight_Level_II    2522\n",
      "Overweight_Level_I     2427\n",
      "Name: count, dtype: int64\n",
      "______________________________\n",
      "\n"
     ]
    }
   ],
   "source": [
    "#find count unique values in each column objec\n",
    "for col in object_columns.columns:\n",
    "    print(f\"column {col} : \")\n",
    "    uniq_values=df_train[col].value_counts()\n",
    "    print(uniq_values)\n",
    "    \n",
    "    print(\"_\"*30)\n",
    "    print('')"
   ]
  },
  {
   "cell_type": "code",
   "execution_count": 19,
   "id": "1eba6668",
   "metadata": {
    "execution": {
     "iopub.execute_input": "2024-09-15T17:16:05.103550Z",
     "iopub.status.busy": "2024-09-15T17:16:05.103179Z",
     "iopub.status.idle": "2024-09-15T17:16:05.113324Z",
     "shell.execute_reply": "2024-09-15T17:16:05.112458Z",
     "shell.execute_reply.started": "2024-09-15T17:16:05.103507Z"
    }
   },
   "outputs": [],
   "source": [
    "#label encoder to enocde data\n",
    "label=LabelEncoder()"
   ]
  },
  {
   "cell_type": "code",
   "execution_count": 20,
   "id": "12b6fbb1",
   "metadata": {
    "execution": {
     "iopub.execute_input": "2024-09-15T17:16:05.114773Z",
     "iopub.status.busy": "2024-09-15T17:16:05.114401Z",
     "iopub.status.idle": "2024-09-15T17:16:05.165323Z",
     "shell.execute_reply": "2024-09-15T17:16:05.164394Z",
     "shell.execute_reply.started": "2024-09-15T17:16:05.114730Z"
    }
   },
   "outputs": [],
   "source": [
    "#encoded data categorical with label encoder\n",
    "for col in object_columns.columns:\n",
    "    df_train[col]=label.fit_transform(df_train[col])"
   ]
  },
  {
   "cell_type": "code",
   "execution_count": 21,
   "id": "0a79617b",
   "metadata": {
    "execution": {
     "iopub.execute_input": "2024-09-15T17:16:05.167622Z",
     "iopub.status.busy": "2024-09-15T17:16:05.166988Z",
     "iopub.status.idle": "2024-09-15T17:16:05.186305Z",
     "shell.execute_reply": "2024-09-15T17:16:05.185159Z",
     "shell.execute_reply.started": "2024-09-15T17:16:05.167579Z"
    }
   },
   "outputs": [
    {
     "data": {
      "text/html": [
       "<div>\n",
       "<style scoped>\n",
       "    .dataframe tbody tr th:only-of-type {\n",
       "        vertical-align: middle;\n",
       "    }\n",
       "\n",
       "    .dataframe tbody tr th {\n",
       "        vertical-align: top;\n",
       "    }\n",
       "\n",
       "    .dataframe thead th {\n",
       "        text-align: right;\n",
       "    }\n",
       "</style>\n",
       "<table border=\"1\" class=\"dataframe\">\n",
       "  <thead>\n",
       "    <tr style=\"text-align: right;\">\n",
       "      <th></th>\n",
       "      <th>id</th>\n",
       "      <th>Gender</th>\n",
       "      <th>Age</th>\n",
       "      <th>Height</th>\n",
       "      <th>Weight</th>\n",
       "      <th>family_history_with_overweight</th>\n",
       "      <th>FAVC</th>\n",
       "      <th>FCVC</th>\n",
       "      <th>NCP</th>\n",
       "      <th>CAEC</th>\n",
       "      <th>SMOKE</th>\n",
       "      <th>CH2O</th>\n",
       "      <th>SCC</th>\n",
       "      <th>FAF</th>\n",
       "      <th>TUE</th>\n",
       "      <th>CALC</th>\n",
       "      <th>MTRANS</th>\n",
       "      <th>NObeyesdad</th>\n",
       "    </tr>\n",
       "  </thead>\n",
       "  <tbody>\n",
       "    <tr>\n",
       "      <th>0</th>\n",
       "      <td>0</td>\n",
       "      <td>1</td>\n",
       "      <td>24.443011</td>\n",
       "      <td>1.699998</td>\n",
       "      <td>81.669950</td>\n",
       "      <td>1</td>\n",
       "      <td>1</td>\n",
       "      <td>2.000000</td>\n",
       "      <td>2.983297</td>\n",
       "      <td>2</td>\n",
       "      <td>0</td>\n",
       "      <td>2.763573</td>\n",
       "      <td>0</td>\n",
       "      <td>0.000000</td>\n",
       "      <td>0.976473</td>\n",
       "      <td>1</td>\n",
       "      <td>3</td>\n",
       "      <td>6</td>\n",
       "    </tr>\n",
       "    <tr>\n",
       "      <th>1</th>\n",
       "      <td>1</td>\n",
       "      <td>0</td>\n",
       "      <td>18.000000</td>\n",
       "      <td>1.560000</td>\n",
       "      <td>57.000000</td>\n",
       "      <td>1</td>\n",
       "      <td>1</td>\n",
       "      <td>2.000000</td>\n",
       "      <td>3.000000</td>\n",
       "      <td>1</td>\n",
       "      <td>0</td>\n",
       "      <td>2.000000</td>\n",
       "      <td>0</td>\n",
       "      <td>1.000000</td>\n",
       "      <td>1.000000</td>\n",
       "      <td>2</td>\n",
       "      <td>0</td>\n",
       "      <td>1</td>\n",
       "    </tr>\n",
       "    <tr>\n",
       "      <th>2</th>\n",
       "      <td>2</td>\n",
       "      <td>0</td>\n",
       "      <td>18.000000</td>\n",
       "      <td>1.711460</td>\n",
       "      <td>50.165754</td>\n",
       "      <td>1</td>\n",
       "      <td>1</td>\n",
       "      <td>1.880534</td>\n",
       "      <td>1.411685</td>\n",
       "      <td>2</td>\n",
       "      <td>0</td>\n",
       "      <td>1.910378</td>\n",
       "      <td>0</td>\n",
       "      <td>0.866045</td>\n",
       "      <td>1.673584</td>\n",
       "      <td>2</td>\n",
       "      <td>3</td>\n",
       "      <td>0</td>\n",
       "    </tr>\n",
       "    <tr>\n",
       "      <th>3</th>\n",
       "      <td>3</td>\n",
       "      <td>0</td>\n",
       "      <td>20.952737</td>\n",
       "      <td>1.710730</td>\n",
       "      <td>131.274851</td>\n",
       "      <td>1</td>\n",
       "      <td>1</td>\n",
       "      <td>3.000000</td>\n",
       "      <td>3.000000</td>\n",
       "      <td>2</td>\n",
       "      <td>0</td>\n",
       "      <td>1.674061</td>\n",
       "      <td>0</td>\n",
       "      <td>1.467863</td>\n",
       "      <td>0.780199</td>\n",
       "      <td>1</td>\n",
       "      <td>3</td>\n",
       "      <td>4</td>\n",
       "    </tr>\n",
       "    <tr>\n",
       "      <th>4</th>\n",
       "      <td>4</td>\n",
       "      <td>1</td>\n",
       "      <td>31.641081</td>\n",
       "      <td>1.914186</td>\n",
       "      <td>93.798055</td>\n",
       "      <td>1</td>\n",
       "      <td>1</td>\n",
       "      <td>2.679664</td>\n",
       "      <td>1.971472</td>\n",
       "      <td>2</td>\n",
       "      <td>0</td>\n",
       "      <td>1.979848</td>\n",
       "      <td>0</td>\n",
       "      <td>1.967973</td>\n",
       "      <td>0.931721</td>\n",
       "      <td>1</td>\n",
       "      <td>3</td>\n",
       "      <td>6</td>\n",
       "    </tr>\n",
       "  </tbody>\n",
       "</table>\n",
       "</div>"
      ],
      "text/plain": [
       "   id  Gender        Age    Height      Weight  \\\n",
       "0   0       1  24.443011  1.699998   81.669950   \n",
       "1   1       0  18.000000  1.560000   57.000000   \n",
       "2   2       0  18.000000  1.711460   50.165754   \n",
       "3   3       0  20.952737  1.710730  131.274851   \n",
       "4   4       1  31.641081  1.914186   93.798055   \n",
       "\n",
       "   family_history_with_overweight  FAVC      FCVC       NCP  CAEC  SMOKE  \\\n",
       "0                               1     1  2.000000  2.983297     2      0   \n",
       "1                               1     1  2.000000  3.000000     1      0   \n",
       "2                               1     1  1.880534  1.411685     2      0   \n",
       "3                               1     1  3.000000  3.000000     2      0   \n",
       "4                               1     1  2.679664  1.971472     2      0   \n",
       "\n",
       "       CH2O  SCC       FAF       TUE  CALC  MTRANS  NObeyesdad  \n",
       "0  2.763573    0  0.000000  0.976473     1       3           6  \n",
       "1  2.000000    0  1.000000  1.000000     2       0           1  \n",
       "2  1.910378    0  0.866045  1.673584     2       3           0  \n",
       "3  1.674061    0  1.467863  0.780199     1       3           4  \n",
       "4  1.979848    0  1.967973  0.931721     1       3           6  "
      ]
     },
     "execution_count": 21,
     "metadata": {},
     "output_type": "execute_result"
    }
   ],
   "source": [
    "#check data\n",
    "df_train.head()"
   ]
  },
  {
   "cell_type": "code",
   "execution_count": 22,
   "id": "95cd7105",
   "metadata": {
    "execution": {
     "iopub.execute_input": "2024-09-15T17:16:05.187960Z",
     "iopub.status.busy": "2024-09-15T17:16:05.187545Z",
     "iopub.status.idle": "2024-09-15T17:16:05.200831Z",
     "shell.execute_reply": "2024-09-15T17:16:05.199967Z",
     "shell.execute_reply.started": "2024-09-15T17:16:05.187916Z"
    }
   },
   "outputs": [
    {
     "name": "stdout",
     "output_type": "stream",
     "text": [
      "<class 'pandas.core.frame.DataFrame'>\n",
      "RangeIndex: 20758 entries, 0 to 20757\n",
      "Data columns (total 18 columns):\n",
      " #   Column                          Non-Null Count  Dtype  \n",
      "---  ------                          --------------  -----  \n",
      " 0   id                              20758 non-null  int64  \n",
      " 1   Gender                          20758 non-null  int64  \n",
      " 2   Age                             20758 non-null  float64\n",
      " 3   Height                          20758 non-null  float64\n",
      " 4   Weight                          20758 non-null  float64\n",
      " 5   family_history_with_overweight  20758 non-null  int64  \n",
      " 6   FAVC                            20758 non-null  int64  \n",
      " 7   FCVC                            20758 non-null  float64\n",
      " 8   NCP                             20758 non-null  float64\n",
      " 9   CAEC                            20758 non-null  int64  \n",
      " 10  SMOKE                           20758 non-null  int64  \n",
      " 11  CH2O                            20758 non-null  float64\n",
      " 12  SCC                             20758 non-null  int64  \n",
      " 13  FAF                             20758 non-null  float64\n",
      " 14  TUE                             20758 non-null  float64\n",
      " 15  CALC                            20758 non-null  int64  \n",
      " 16  MTRANS                          20758 non-null  int64  \n",
      " 17  NObeyesdad                      20758 non-null  int64  \n",
      "dtypes: float64(8), int64(10)\n",
      "memory usage: 2.9 MB\n"
     ]
    }
   ],
   "source": [
    "#and check data type\n",
    "df_train.info()"
   ]
  },
  {
   "cell_type": "code",
   "execution_count": null,
   "id": "425d84ee",
   "metadata": {},
   "outputs": [],
   "source": []
  },
  {
   "cell_type": "code",
   "execution_count": null,
   "id": "dc8ff2fc",
   "metadata": {},
   "outputs": [],
   "source": []
  },
  {
   "cell_type": "code",
   "execution_count": null,
   "id": "f313bd0d",
   "metadata": {},
   "outputs": [],
   "source": []
  },
  {
   "cell_type": "markdown",
   "id": "a1376e1a",
   "metadata": {},
   "source": [
    "###### and now will apply  StandardScaler on data numrical"
   ]
  },
  {
   "cell_type": "code",
   "execution_count": 23,
   "id": "e3cdc132",
   "metadata": {
    "execution": {
     "iopub.execute_input": "2024-09-15T17:16:05.202653Z",
     "iopub.status.busy": "2024-09-15T17:16:05.202167Z",
     "iopub.status.idle": "2024-09-15T17:16:05.207010Z",
     "shell.execute_reply": "2024-09-15T17:16:05.205953Z",
     "shell.execute_reply.started": "2024-09-15T17:16:05.202605Z"
    }
   },
   "outputs": [],
   "source": [
    "#  StandardScaler \n",
    "\n",
    "scaler = StandardScaler()\n"
   ]
  },
  {
   "cell_type": "code",
   "execution_count": 24,
   "id": "26e53017",
   "metadata": {
    "execution": {
     "iopub.execute_input": "2024-09-15T17:16:05.208817Z",
     "iopub.status.busy": "2024-09-15T17:16:05.208371Z",
     "iopub.status.idle": "2024-09-15T17:16:05.249380Z",
     "shell.execute_reply": "2024-09-15T17:16:05.248466Z",
     "shell.execute_reply.started": "2024-09-15T17:16:05.208772Z"
    }
   },
   "outputs": [
    {
     "data": {
      "text/html": [
       "<div>\n",
       "<style scoped>\n",
       "    .dataframe tbody tr th:only-of-type {\n",
       "        vertical-align: middle;\n",
       "    }\n",
       "\n",
       "    .dataframe tbody tr th {\n",
       "        vertical-align: top;\n",
       "    }\n",
       "\n",
       "    .dataframe thead th {\n",
       "        text-align: right;\n",
       "    }\n",
       "</style>\n",
       "<table border=\"1\" class=\"dataframe\">\n",
       "  <thead>\n",
       "    <tr style=\"text-align: right;\">\n",
       "      <th></th>\n",
       "      <th>id</th>\n",
       "      <th>Age</th>\n",
       "      <th>Height</th>\n",
       "      <th>Weight</th>\n",
       "      <th>FCVC</th>\n",
       "      <th>NCP</th>\n",
       "      <th>CH2O</th>\n",
       "      <th>FAF</th>\n",
       "      <th>TUE</th>\n",
       "    </tr>\n",
       "  </thead>\n",
       "  <tbody>\n",
       "    <tr>\n",
       "      <th>count</th>\n",
       "      <td>20758.00000</td>\n",
       "      <td>20758.000000</td>\n",
       "      <td>20758.000000</td>\n",
       "      <td>20758.000000</td>\n",
       "      <td>20758.000000</td>\n",
       "      <td>20758.000000</td>\n",
       "      <td>20758.000000</td>\n",
       "      <td>20758.000000</td>\n",
       "      <td>20758.000000</td>\n",
       "    </tr>\n",
       "    <tr>\n",
       "      <th>mean</th>\n",
       "      <td>10378.50000</td>\n",
       "      <td>23.841804</td>\n",
       "      <td>1.700245</td>\n",
       "      <td>87.887768</td>\n",
       "      <td>2.445908</td>\n",
       "      <td>2.761332</td>\n",
       "      <td>2.029418</td>\n",
       "      <td>0.981747</td>\n",
       "      <td>0.616756</td>\n",
       "    </tr>\n",
       "    <tr>\n",
       "      <th>std</th>\n",
       "      <td>5992.46278</td>\n",
       "      <td>5.688072</td>\n",
       "      <td>0.087312</td>\n",
       "      <td>26.379443</td>\n",
       "      <td>0.533218</td>\n",
       "      <td>0.705375</td>\n",
       "      <td>0.608467</td>\n",
       "      <td>0.838302</td>\n",
       "      <td>0.602113</td>\n",
       "    </tr>\n",
       "    <tr>\n",
       "      <th>min</th>\n",
       "      <td>0.00000</td>\n",
       "      <td>14.000000</td>\n",
       "      <td>1.450000</td>\n",
       "      <td>39.000000</td>\n",
       "      <td>1.000000</td>\n",
       "      <td>1.000000</td>\n",
       "      <td>1.000000</td>\n",
       "      <td>0.000000</td>\n",
       "      <td>0.000000</td>\n",
       "    </tr>\n",
       "    <tr>\n",
       "      <th>25%</th>\n",
       "      <td>5189.25000</td>\n",
       "      <td>20.000000</td>\n",
       "      <td>1.631856</td>\n",
       "      <td>66.000000</td>\n",
       "      <td>2.000000</td>\n",
       "      <td>3.000000</td>\n",
       "      <td>1.792022</td>\n",
       "      <td>0.008013</td>\n",
       "      <td>0.000000</td>\n",
       "    </tr>\n",
       "    <tr>\n",
       "      <th>50%</th>\n",
       "      <td>10378.50000</td>\n",
       "      <td>22.815416</td>\n",
       "      <td>1.700000</td>\n",
       "      <td>84.064875</td>\n",
       "      <td>2.393837</td>\n",
       "      <td>3.000000</td>\n",
       "      <td>2.000000</td>\n",
       "      <td>1.000000</td>\n",
       "      <td>0.573887</td>\n",
       "    </tr>\n",
       "    <tr>\n",
       "      <th>75%</th>\n",
       "      <td>15567.75000</td>\n",
       "      <td>26.000000</td>\n",
       "      <td>1.762887</td>\n",
       "      <td>111.600553</td>\n",
       "      <td>3.000000</td>\n",
       "      <td>3.000000</td>\n",
       "      <td>2.549617</td>\n",
       "      <td>1.587406</td>\n",
       "      <td>1.000000</td>\n",
       "    </tr>\n",
       "    <tr>\n",
       "      <th>max</th>\n",
       "      <td>20757.00000</td>\n",
       "      <td>61.000000</td>\n",
       "      <td>1.975663</td>\n",
       "      <td>165.057269</td>\n",
       "      <td>3.000000</td>\n",
       "      <td>4.000000</td>\n",
       "      <td>3.000000</td>\n",
       "      <td>3.000000</td>\n",
       "      <td>2.000000</td>\n",
       "    </tr>\n",
       "  </tbody>\n",
       "</table>\n",
       "</div>"
      ],
      "text/plain": [
       "                id           Age        Height        Weight          FCVC  \\\n",
       "count  20758.00000  20758.000000  20758.000000  20758.000000  20758.000000   \n",
       "mean   10378.50000     23.841804      1.700245     87.887768      2.445908   \n",
       "std     5992.46278      5.688072      0.087312     26.379443      0.533218   \n",
       "min        0.00000     14.000000      1.450000     39.000000      1.000000   \n",
       "25%     5189.25000     20.000000      1.631856     66.000000      2.000000   \n",
       "50%    10378.50000     22.815416      1.700000     84.064875      2.393837   \n",
       "75%    15567.75000     26.000000      1.762887    111.600553      3.000000   \n",
       "max    20757.00000     61.000000      1.975663    165.057269      3.000000   \n",
       "\n",
       "                NCP          CH2O           FAF           TUE  \n",
       "count  20758.000000  20758.000000  20758.000000  20758.000000  \n",
       "mean       2.761332      2.029418      0.981747      0.616756  \n",
       "std        0.705375      0.608467      0.838302      0.602113  \n",
       "min        1.000000      1.000000      0.000000      0.000000  \n",
       "25%        3.000000      1.792022      0.008013      0.000000  \n",
       "50%        3.000000      2.000000      1.000000      0.573887  \n",
       "75%        3.000000      2.549617      1.587406      1.000000  \n",
       "max        4.000000      3.000000      3.000000      2.000000  "
      ]
     },
     "execution_count": 24,
     "metadata": {},
     "output_type": "execute_result"
    }
   ],
   "source": [
    "#check disction data numrical before StandardScaler\n",
    "df_train[non_object_columns.columns].describe()"
   ]
  },
  {
   "cell_type": "code",
   "execution_count": 25,
   "id": "585118e6",
   "metadata": {
    "execution": {
     "iopub.execute_input": "2024-09-15T17:16:05.250942Z",
     "iopub.status.busy": "2024-09-15T17:16:05.250577Z",
     "iopub.status.idle": "2024-09-15T17:16:05.262610Z",
     "shell.execute_reply": "2024-09-15T17:16:05.261786Z",
     "shell.execute_reply.started": "2024-09-15T17:16:05.250899Z"
    }
   },
   "outputs": [],
   "source": [
    "# Standardize numerical columns except 'id'\n",
    "columns_to_scale = non_object_columns.drop(columns=['id'])\n",
    "df_train[columns_to_scale.columns] = scaler.fit_transform(columns_to_scale)"
   ]
  },
  {
   "cell_type": "code",
   "execution_count": 26,
   "id": "a38d4493",
   "metadata": {
    "execution": {
     "iopub.execute_input": "2024-09-15T17:16:05.264223Z",
     "iopub.status.busy": "2024-09-15T17:16:05.263905Z",
     "iopub.status.idle": "2024-09-15T17:16:05.334018Z",
     "shell.execute_reply": "2024-09-15T17:16:05.333079Z",
     "shell.execute_reply.started": "2024-09-15T17:16:05.264188Z"
    }
   },
   "outputs": [
    {
     "data": {
      "text/html": [
       "<div>\n",
       "<style scoped>\n",
       "    .dataframe tbody tr th:only-of-type {\n",
       "        vertical-align: middle;\n",
       "    }\n",
       "\n",
       "    .dataframe tbody tr th {\n",
       "        vertical-align: top;\n",
       "    }\n",
       "\n",
       "    .dataframe thead th {\n",
       "        text-align: right;\n",
       "    }\n",
       "</style>\n",
       "<table border=\"1\" class=\"dataframe\">\n",
       "  <thead>\n",
       "    <tr style=\"text-align: right;\">\n",
       "      <th></th>\n",
       "      <th>id</th>\n",
       "      <th>Gender</th>\n",
       "      <th>Age</th>\n",
       "      <th>Height</th>\n",
       "      <th>Weight</th>\n",
       "      <th>family_history_with_overweight</th>\n",
       "      <th>FAVC</th>\n",
       "      <th>FCVC</th>\n",
       "      <th>NCP</th>\n",
       "      <th>CAEC</th>\n",
       "      <th>SMOKE</th>\n",
       "      <th>CH2O</th>\n",
       "      <th>SCC</th>\n",
       "      <th>FAF</th>\n",
       "      <th>TUE</th>\n",
       "      <th>CALC</th>\n",
       "      <th>MTRANS</th>\n",
       "      <th>NObeyesdad</th>\n",
       "    </tr>\n",
       "  </thead>\n",
       "  <tbody>\n",
       "    <tr>\n",
       "      <th>count</th>\n",
       "      <td>20758.00000</td>\n",
       "      <td>20758.000000</td>\n",
       "      <td>2.075800e+04</td>\n",
       "      <td>2.075800e+04</td>\n",
       "      <td>2.075800e+04</td>\n",
       "      <td>20758.000000</td>\n",
       "      <td>20758.000000</td>\n",
       "      <td>2.075800e+04</td>\n",
       "      <td>2.075800e+04</td>\n",
       "      <td>20758.000000</td>\n",
       "      <td>20758.000000</td>\n",
       "      <td>2.075800e+04</td>\n",
       "      <td>20758.000000</td>\n",
       "      <td>2.075800e+04</td>\n",
       "      <td>2.075800e+04</td>\n",
       "      <td>20758.000000</td>\n",
       "      <td>20758.000000</td>\n",
       "      <td>20758.000000</td>\n",
       "    </tr>\n",
       "    <tr>\n",
       "      <th>mean</th>\n",
       "      <td>10378.50000</td>\n",
       "      <td>0.497929</td>\n",
       "      <td>1.889486e-16</td>\n",
       "      <td>-1.107677e-15</td>\n",
       "      <td>-1.297310e-16</td>\n",
       "      <td>0.819636</td>\n",
       "      <td>0.914443</td>\n",
       "      <td>1.095354e-16</td>\n",
       "      <td>1.762836e-17</td>\n",
       "      <td>1.848299</td>\n",
       "      <td>0.011803</td>\n",
       "      <td>-2.931785e-16</td>\n",
       "      <td>0.033096</td>\n",
       "      <td>3.902200e-17</td>\n",
       "      <td>1.328117e-16</td>\n",
       "      <td>1.223239</td>\n",
       "      <td>2.506841</td>\n",
       "      <td>2.991473</td>\n",
       "    </tr>\n",
       "    <tr>\n",
       "      <th>std</th>\n",
       "      <td>5992.46278</td>\n",
       "      <td>0.500008</td>\n",
       "      <td>1.000024e+00</td>\n",
       "      <td>1.000024e+00</td>\n",
       "      <td>1.000024e+00</td>\n",
       "      <td>0.384500</td>\n",
       "      <td>0.279716</td>\n",
       "      <td>1.000024e+00</td>\n",
       "      <td>1.000024e+00</td>\n",
       "      <td>0.449036</td>\n",
       "      <td>0.108000</td>\n",
       "      <td>1.000024e+00</td>\n",
       "      <td>0.178891</td>\n",
       "      <td>1.000024e+00</td>\n",
       "      <td>1.000024e+00</td>\n",
       "      <td>0.473690</td>\n",
       "      <td>1.148730</td>\n",
       "      <td>1.893176</td>\n",
       "    </tr>\n",
       "    <tr>\n",
       "      <th>min</th>\n",
       "      <td>0.00000</td>\n",
       "      <td>0.000000</td>\n",
       "      <td>-1.730295e+00</td>\n",
       "      <td>-2.866172e+00</td>\n",
       "      <td>-1.853297e+00</td>\n",
       "      <td>0.000000</td>\n",
       "      <td>0.000000</td>\n",
       "      <td>-2.711729e+00</td>\n",
       "      <td>-2.497077e+00</td>\n",
       "      <td>0.000000</td>\n",
       "      <td>0.000000</td>\n",
       "      <td>-1.691863e+00</td>\n",
       "      <td>0.000000</td>\n",
       "      <td>-1.171141e+00</td>\n",
       "      <td>-1.024344e+00</td>\n",
       "      <td>0.000000</td>\n",
       "      <td>0.000000</td>\n",
       "      <td>0.000000</td>\n",
       "    </tr>\n",
       "    <tr>\n",
       "      <th>25%</th>\n",
       "      <td>5189.25000</td>\n",
       "      <td>0.000000</td>\n",
       "      <td>-6.754304e-01</td>\n",
       "      <td>-7.832905e-01</td>\n",
       "      <td>-8.297482e-01</td>\n",
       "      <td>1.000000</td>\n",
       "      <td>1.000000</td>\n",
       "      <td>-8.362790e-01</td>\n",
       "      <td>3.383641e-01</td>\n",
       "      <td>2.000000</td>\n",
       "      <td>0.000000</td>\n",
       "      <td>-3.901641e-01</td>\n",
       "      <td>0.000000</td>\n",
       "      <td>-1.161583e+00</td>\n",
       "      <td>-1.024344e+00</td>\n",
       "      <td>1.000000</td>\n",
       "      <td>3.000000</td>\n",
       "      <td>1.000000</td>\n",
       "    </tr>\n",
       "    <tr>\n",
       "      <th>50%</th>\n",
       "      <td>10378.50000</td>\n",
       "      <td>0.000000</td>\n",
       "      <td>-1.804501e-01</td>\n",
       "      <td>-2.805357e-03</td>\n",
       "      <td>-1.449229e-01</td>\n",
       "      <td>1.000000</td>\n",
       "      <td>1.000000</td>\n",
       "      <td>-9.765730e-02</td>\n",
       "      <td>3.383641e-01</td>\n",
       "      <td>2.000000</td>\n",
       "      <td>0.000000</td>\n",
       "      <td>-4.834930e-02</td>\n",
       "      <td>0.000000</td>\n",
       "      <td>2.177483e-02</td>\n",
       "      <td>-7.119963e-02</td>\n",
       "      <td>1.000000</td>\n",
       "      <td>3.000000</td>\n",
       "      <td>3.000000</td>\n",
       "    </tr>\n",
       "    <tr>\n",
       "      <th>75%</th>\n",
       "      <td>15567.75000</td>\n",
       "      <td>1.000000</td>\n",
       "      <td>3.794339e-01</td>\n",
       "      <td>7.174689e-01</td>\n",
       "      <td>8.989331e-01</td>\n",
       "      <td>1.000000</td>\n",
       "      <td>1.000000</td>\n",
       "      <td>1.039171e+00</td>\n",
       "      <td>3.383641e-01</td>\n",
       "      <td>2.000000</td>\n",
       "      <td>0.000000</td>\n",
       "      <td>8.549540e-01</td>\n",
       "      <td>0.000000</td>\n",
       "      <td>7.225010e-01</td>\n",
       "      <td>6.365129e-01</td>\n",
       "      <td>1.000000</td>\n",
       "      <td>3.000000</td>\n",
       "      <td>4.000000</td>\n",
       "    </tr>\n",
       "    <tr>\n",
       "      <th>max</th>\n",
       "      <td>20757.00000</td>\n",
       "      <td>1.000000</td>\n",
       "      <td>6.532810e+00</td>\n",
       "      <td>3.154492e+00</td>\n",
       "      <td>2.925436e+00</td>\n",
       "      <td>1.000000</td>\n",
       "      <td>1.000000</td>\n",
       "      <td>1.039171e+00</td>\n",
       "      <td>1.756085e+00</td>\n",
       "      <td>3.000000</td>\n",
       "      <td>1.000000</td>\n",
       "      <td>1.595165e+00</td>\n",
       "      <td>1.000000</td>\n",
       "      <td>2.407607e+00</td>\n",
       "      <td>2.297369e+00</td>\n",
       "      <td>2.000000</td>\n",
       "      <td>4.000000</td>\n",
       "      <td>6.000000</td>\n",
       "    </tr>\n",
       "  </tbody>\n",
       "</table>\n",
       "</div>"
      ],
      "text/plain": [
       "                id        Gender           Age        Height        Weight  \\\n",
       "count  20758.00000  20758.000000  2.075800e+04  2.075800e+04  2.075800e+04   \n",
       "mean   10378.50000      0.497929  1.889486e-16 -1.107677e-15 -1.297310e-16   \n",
       "std     5992.46278      0.500008  1.000024e+00  1.000024e+00  1.000024e+00   \n",
       "min        0.00000      0.000000 -1.730295e+00 -2.866172e+00 -1.853297e+00   \n",
       "25%     5189.25000      0.000000 -6.754304e-01 -7.832905e-01 -8.297482e-01   \n",
       "50%    10378.50000      0.000000 -1.804501e-01 -2.805357e-03 -1.449229e-01   \n",
       "75%    15567.75000      1.000000  3.794339e-01  7.174689e-01  8.989331e-01   \n",
       "max    20757.00000      1.000000  6.532810e+00  3.154492e+00  2.925436e+00   \n",
       "\n",
       "       family_history_with_overweight          FAVC          FCVC  \\\n",
       "count                    20758.000000  20758.000000  2.075800e+04   \n",
       "mean                         0.819636      0.914443  1.095354e-16   \n",
       "std                          0.384500      0.279716  1.000024e+00   \n",
       "min                          0.000000      0.000000 -2.711729e+00   \n",
       "25%                          1.000000      1.000000 -8.362790e-01   \n",
       "50%                          1.000000      1.000000 -9.765730e-02   \n",
       "75%                          1.000000      1.000000  1.039171e+00   \n",
       "max                          1.000000      1.000000  1.039171e+00   \n",
       "\n",
       "                NCP          CAEC         SMOKE          CH2O           SCC  \\\n",
       "count  2.075800e+04  20758.000000  20758.000000  2.075800e+04  20758.000000   \n",
       "mean   1.762836e-17      1.848299      0.011803 -2.931785e-16      0.033096   \n",
       "std    1.000024e+00      0.449036      0.108000  1.000024e+00      0.178891   \n",
       "min   -2.497077e+00      0.000000      0.000000 -1.691863e+00      0.000000   \n",
       "25%    3.383641e-01      2.000000      0.000000 -3.901641e-01      0.000000   \n",
       "50%    3.383641e-01      2.000000      0.000000 -4.834930e-02      0.000000   \n",
       "75%    3.383641e-01      2.000000      0.000000  8.549540e-01      0.000000   \n",
       "max    1.756085e+00      3.000000      1.000000  1.595165e+00      1.000000   \n",
       "\n",
       "                FAF           TUE          CALC        MTRANS    NObeyesdad  \n",
       "count  2.075800e+04  2.075800e+04  20758.000000  20758.000000  20758.000000  \n",
       "mean   3.902200e-17  1.328117e-16      1.223239      2.506841      2.991473  \n",
       "std    1.000024e+00  1.000024e+00      0.473690      1.148730      1.893176  \n",
       "min   -1.171141e+00 -1.024344e+00      0.000000      0.000000      0.000000  \n",
       "25%   -1.161583e+00 -1.024344e+00      1.000000      3.000000      1.000000  \n",
       "50%    2.177483e-02 -7.119963e-02      1.000000      3.000000      3.000000  \n",
       "75%    7.225010e-01  6.365129e-01      1.000000      3.000000      4.000000  \n",
       "max    2.407607e+00  2.297369e+00      2.000000      4.000000      6.000000  "
      ]
     },
     "execution_count": 26,
     "metadata": {},
     "output_type": "execute_result"
    }
   ],
   "source": [
    "#check disction data numrical after StandardScaler\n",
    "df_train.describe()"
   ]
  },
  {
   "cell_type": "markdown",
   "id": "e7193dc8",
   "metadata": {},
   "source": [
    " "
   ]
  },
  {
   "cell_type": "code",
   "execution_count": 27,
   "id": "a27ecbc4",
   "metadata": {
    "execution": {
     "iopub.execute_input": "2024-09-15T17:16:05.336113Z",
     "iopub.status.busy": "2024-09-15T17:16:05.335645Z",
     "iopub.status.idle": "2024-09-15T17:16:05.801543Z",
     "shell.execute_reply": "2024-09-15T17:16:05.800405Z",
     "shell.execute_reply.started": "2024-09-15T17:16:05.336051Z"
    }
   },
   "outputs": [
    {
     "data": {
      "text/plain": [
       "<Axes: xlabel='NObeyesdad'>"
      ]
     },
     "execution_count": 27,
     "metadata": {},
     "output_type": "execute_result"
    },
    {
     "data": {
      "image/png": "[encoded data removed]",
      "text/plain": [
       "<Figure size 640x480 with 1 Axes>"
      ]
     },
     "metadata": {},
     "output_type": "display_data"
    }
   ],
   "source": [
    "#plot distbution NObeyesdad\n",
    "df_train['NObeyesdad'].value_counts().plot(kind='bar')"
   ]
  },
  {
   "cell_type": "markdown",
   "id": "1d36faa9",
   "metadata": {},
   "source": [
    "### Modeling"
   ]
  },
  {
   "cell_type": "code",
   "execution_count": 28,
   "id": "35e69bf9",
   "metadata": {
    "execution": {
     "iopub.execute_input": "2024-09-15T17:16:05.803028Z",
     "iopub.status.busy": "2024-09-15T17:16:05.802706Z",
     "iopub.status.idle": "2024-09-15T17:16:05.810566Z",
     "shell.execute_reply": "2024-09-15T17:16:05.809564Z",
     "shell.execute_reply.started": "2024-09-15T17:16:05.802993Z"
    }
   },
   "outputs": [],
   "source": [
    "# Split data into features and target variable\n",
    "x=df_train.drop(['NObeyesdad','id'],axis=1)\n",
    "y=df_train['NObeyesdad']"
   ]
  },
  {
   "cell_type": "code",
   "execution_count": 29,
   "id": "f2b551e2",
   "metadata": {
    "execution": {
     "iopub.execute_input": "2024-09-15T17:16:05.812016Z",
     "iopub.status.busy": "2024-09-15T17:16:05.811638Z",
     "iopub.status.idle": "2024-09-15T17:16:05.824462Z",
     "shell.execute_reply": "2024-09-15T17:16:05.823610Z",
     "shell.execute_reply.started": "2024-09-15T17:16:05.811983Z"
    }
   },
   "outputs": [],
   "source": [
    "# Split data into training and test sets\n",
    "X_train, X_test, y_train, y_test = train_test_split(x, y, test_size=0.1, random_state=42)"
   ]
  },
  {
   "cell_type": "code",
   "execution_count": 30,
   "id": "e732d21c",
   "metadata": {
    "execution": {
     "iopub.execute_input": "2024-09-15T17:16:05.825916Z",
     "iopub.status.busy": "2024-09-15T17:16:05.825618Z",
     "iopub.status.idle": "2024-09-15T17:16:05.831323Z",
     "shell.execute_reply": "2024-09-15T17:16:05.830468Z",
     "shell.execute_reply.started": "2024-09-15T17:16:05.825886Z"
    }
   },
   "outputs": [
    {
     "name": "stdout",
     "output_type": "stream",
     "text": [
      "Training set features shape: (18682, 16)\n",
      "Testing set features shape: (2076, 16)\n",
      "Training set target shape: (18682,)\n",
      "Testing set target shape: (2076,)\n"
     ]
    }
   ],
   "source": [
    "# Check the shapes \n",
    "print(f\"Training set features shape: {X_train.shape}\")\n",
    "print(f\"Testing set features shape: {X_test.shape}\")\n",
    "print(f\"Training set target shape: {y_train.shape}\")\n",
    "print(f\"Testing set target shape: {y_test.shape}\")"
   ]
  },
  {
   "cell_type": "code",
   "execution_count": null,
   "id": "d9dbaf2e",
   "metadata": {},
   "outputs": [],
   "source": []
  },
  {
   "cell_type": "code",
   "execution_count": 31,
   "id": "a754e0fd",
   "metadata": {
    "execution": {
     "iopub.execute_input": "2024-09-15T17:16:05.833602Z",
     "iopub.status.busy": "2024-09-15T17:16:05.832810Z",
     "iopub.status.idle": "2024-09-15T17:16:05.843142Z",
     "shell.execute_reply": "2024-09-15T17:16:05.842210Z",
     "shell.execute_reply.started": "2024-09-15T17:16:05.833554Z"
    }
   },
   "outputs": [],
   "source": [
    "def compare_models(X_train, X_test, y_train, y_test):\n",
    "    # Initialize models\n",
    "    models = {\n",
    "        'Logistic Regression': LogisticRegression(),\n",
    "        'Decision Tree': DecisionTreeClassifier(),\n",
    "        'Random Forest': RandomForestClassifier(),\n",
    "        'Gradient Boosting': GradientBoostingClassifier(),\n",
    "        'XGBoost': XGBClassifier(),\n",
    "        'K-Nearest Neighbors': KNeighborsClassifier(),\n",
    "        'SVM': SVC(probability=True),  # Enable probability estimates for some models\n",
    "        'Naive Bayes': GaussianNB(),\n",
    "        'MLP': MLPClassifier(),\n",
    "        'AdaBoost': AdaBoostClassifier(),\n",
    "        'Bagging': BaggingClassifier(),\n",
    "        'LightGBM': LGBMClassifier()\n",
    "    }\n",
    "    \n",
    "    # To save results\n",
    "    result = {}\n",
    "    for name, model in models.items():\n",
    "        model.fit(X_train, y_train)  # Train the model\n",
    "        prediction = model.predict(X_test)  # Predict X_test\n",
    "        \n",
    "        # Metrics\n",
    "        accuracy = accuracy_score(y_test, prediction)\n",
    "        precision = precision_score(y_test, prediction, average='weighted')\n",
    "        recall = recall_score(y_test, prediction, average='weighted')\n",
    "        f1 = f1_score(y_test, prediction, average='weighted')\n",
    "        \n",
    "        result[name] = {\n",
    "            'Accuracy': accuracy,\n",
    "            'Precision': precision,\n",
    "            'Recall': recall,\n",
    "            'F1 Score': f1\n",
    "        }\n",
    "        \n",
    "    result_df = pd.DataFrame(result).T\n",
    "    return result_df"
   ]
  },
  {
   "cell_type": "code",
   "execution_count": null,
   "id": "b1a2e223",
   "metadata": {},
   "outputs": [],
   "source": []
  },
  {
   "cell_type": "code",
   "execution_count": 32,
   "id": "2720caca",
   "metadata": {
    "execution": {
     "iopub.execute_input": "2024-09-15T17:16:05.844661Z",
     "iopub.status.busy": "2024-09-15T17:16:05.844281Z",
     "iopub.status.idle": "2024-09-15T17:17:07.205138Z",
     "shell.execute_reply": "2024-09-15T17:17:07.204041Z",
     "shell.execute_reply.started": "2024-09-15T17:16:05.844626Z"
    }
   },
   "outputs": [
    {
     "name": "stderr",
     "output_type": "stream",
     "text": [
      "/opt/conda/lib/python3.10/site-packages/sklearn/linear_model/_logistic.py:458: ConvergenceWarning: lbfgs failed to converge (status=1):\n",
      "STOP: TOTAL NO. of ITERATIONS REACHED LIMIT.\n",
      "\n",
      "Increase the number of iterations (max_iter) or scale the data as shown in:\n",
      "    https://scikit-learn.org/stable/modules/preprocessing.html\n",
      "Please also refer to the documentation for alternative solver options:\n",
      "    https://scikit-learn.org/stable/modules/linear_model.html#logistic-regression\n",
      "  n_iter_i = _check_optimize_result(\n",
      "/opt/conda/lib/python3.10/site-packages/sklearn/neural_network/_multilayer_perceptron.py:686: ConvergenceWarning: Stochastic Optimizer: Maximum iterations (200) reached and the optimization hasn't converged yet.\n",
      "  warnings.warn(\n"
     ]
    },
    {
     "name": "stdout",
     "output_type": "stream",
     "text": [
      "[LightGBM] [Info] Auto-choosing row-wise multi-threading, the overhead of testing was 0.002074 seconds.\n",
      "You can set `force_row_wise=true` to remove the overhead.\n",
      "And if memory is not enough, you can set `force_col_wise=true`.\n",
      "[LightGBM] [Info] Total Bins 2019\n",
      "[LightGBM] [Info] Number of data points in the train set: 18682, number of used features: 16\n",
      "[LightGBM] [Info] Start training from score -2.108662\n",
      "[LightGBM] [Info] Start training from score -1.915233\n",
      "[LightGBM] [Info] Start training from score -1.953001\n",
      "[LightGBM] [Info] Start training from score -1.859064\n",
      "[LightGBM] [Info] Start training from score -1.635028\n",
      "[LightGBM] [Info] Start training from score -2.146860\n",
      "[LightGBM] [Info] Start training from score -2.105141\n"
     ]
    }
   ],
   "source": [
    "# use function to compare model\n",
    "result_for_compraing=compare_models(X_train, X_test, y_train, y_test)"
   ]
  },
  {
   "cell_type": "code",
   "execution_count": 33,
   "id": "2320ac35",
   "metadata": {
    "execution": {
     "iopub.execute_input": "2024-09-15T17:17:07.207161Z",
     "iopub.status.busy": "2024-09-15T17:17:07.206725Z",
     "iopub.status.idle": "2024-09-15T17:17:07.220864Z",
     "shell.execute_reply": "2024-09-15T17:17:07.219794Z",
     "shell.execute_reply.started": "2024-09-15T17:17:07.207109Z"
    }
   },
   "outputs": [
    {
     "data": {
      "text/html": [
       "<div>\n",
       "<style scoped>\n",
       "    .dataframe tbody tr th:only-of-type {\n",
       "        vertical-align: middle;\n",
       "    }\n",
       "\n",
       "    .dataframe tbody tr th {\n",
       "        vertical-align: top;\n",
       "    }\n",
       "\n",
       "    .dataframe thead th {\n",
       "        text-align: right;\n",
       "    }\n",
       "</style>\n",
       "<table border=\"1\" class=\"dataframe\">\n",
       "  <thead>\n",
       "    <tr style=\"text-align: right;\">\n",
       "      <th></th>\n",
       "      <th>Accuracy</th>\n",
       "      <th>Precision</th>\n",
       "      <th>Recall</th>\n",
       "      <th>F1 Score</th>\n",
       "    </tr>\n",
       "  </thead>\n",
       "  <tbody>\n",
       "    <tr>\n",
       "      <th>Logistic Regression</th>\n",
       "      <td>0.859345</td>\n",
       "      <td>0.859780</td>\n",
       "      <td>0.859345</td>\n",
       "      <td>0.858929</td>\n",
       "    </tr>\n",
       "    <tr>\n",
       "      <th>Decision Tree</th>\n",
       "      <td>0.839114</td>\n",
       "      <td>0.841296</td>\n",
       "      <td>0.839114</td>\n",
       "      <td>0.839926</td>\n",
       "    </tr>\n",
       "    <tr>\n",
       "      <th>Random Forest</th>\n",
       "      <td>0.904624</td>\n",
       "      <td>0.905212</td>\n",
       "      <td>0.904624</td>\n",
       "      <td>0.904872</td>\n",
       "    </tr>\n",
       "    <tr>\n",
       "      <th>Gradient Boosting</th>\n",
       "      <td>0.906069</td>\n",
       "      <td>0.906689</td>\n",
       "      <td>0.906069</td>\n",
       "      <td>0.906343</td>\n",
       "    </tr>\n",
       "    <tr>\n",
       "      <th>XGBoost</th>\n",
       "      <td>0.909441</td>\n",
       "      <td>0.910033</td>\n",
       "      <td>0.909441</td>\n",
       "      <td>0.909671</td>\n",
       "    </tr>\n",
       "    <tr>\n",
       "      <th>K-Nearest Neighbors</th>\n",
       "      <td>0.763006</td>\n",
       "      <td>0.761126</td>\n",
       "      <td>0.763006</td>\n",
       "      <td>0.760056</td>\n",
       "    </tr>\n",
       "    <tr>\n",
       "      <th>SVM</th>\n",
       "      <td>0.873796</td>\n",
       "      <td>0.876412</td>\n",
       "      <td>0.873796</td>\n",
       "      <td>0.874421</td>\n",
       "    </tr>\n",
       "    <tr>\n",
       "      <th>Naive Bayes</th>\n",
       "      <td>0.660886</td>\n",
       "      <td>0.668494</td>\n",
       "      <td>0.660886</td>\n",
       "      <td>0.645001</td>\n",
       "    </tr>\n",
       "    <tr>\n",
       "      <th>MLP</th>\n",
       "      <td>0.877649</td>\n",
       "      <td>0.878750</td>\n",
       "      <td>0.877649</td>\n",
       "      <td>0.877423</td>\n",
       "    </tr>\n",
       "    <tr>\n",
       "      <th>AdaBoost</th>\n",
       "      <td>0.454239</td>\n",
       "      <td>0.399636</td>\n",
       "      <td>0.454239</td>\n",
       "      <td>0.390369</td>\n",
       "    </tr>\n",
       "    <tr>\n",
       "      <th>Bagging</th>\n",
       "      <td>0.881503</td>\n",
       "      <td>0.881641</td>\n",
       "      <td>0.881503</td>\n",
       "      <td>0.881503</td>\n",
       "    </tr>\n",
       "    <tr>\n",
       "      <th>LightGBM</th>\n",
       "      <td>0.910886</td>\n",
       "      <td>0.911493</td>\n",
       "      <td>0.910886</td>\n",
       "      <td>0.911135</td>\n",
       "    </tr>\n",
       "  </tbody>\n",
       "</table>\n",
       "</div>"
      ],
      "text/plain": [
       "                     Accuracy  Precision    Recall  F1 Score\n",
       "Logistic Regression  0.859345   0.859780  0.859345  0.858929\n",
       "Decision Tree        0.839114   0.841296  0.839114  0.839926\n",
       "Random Forest        0.904624   0.905212  0.904624  0.904872\n",
       "Gradient Boosting    0.906069   0.906689  0.906069  0.906343\n",
       "XGBoost              0.909441   0.910033  0.909441  0.909671\n",
       "K-Nearest Neighbors  0.763006   0.761126  0.763006  0.760056\n",
       "SVM                  0.873796   0.876412  0.873796  0.874421\n",
       "Naive Bayes          0.660886   0.668494  0.660886  0.645001\n",
       "MLP                  0.877649   0.878750  0.877649  0.877423\n",
       "AdaBoost             0.454239   0.399636  0.454239  0.390369\n",
       "Bagging              0.881503   0.881641  0.881503  0.881503\n",
       "LightGBM             0.910886   0.911493  0.910886  0.911135"
      ]
     },
     "execution_count": 33,
     "metadata": {},
     "output_type": "execute_result"
    }
   ],
   "source": [
    "result_for_compraing"
   ]
  },
  {
   "cell_type": "code",
   "execution_count": 34,
   "id": "349209fd",
   "metadata": {
    "execution": {
     "iopub.execute_input": "2024-09-15T17:17:07.222830Z",
     "iopub.status.busy": "2024-09-15T17:17:07.222316Z",
     "iopub.status.idle": "2024-09-15T17:17:07.767722Z",
     "shell.execute_reply": "2024-09-15T17:17:07.766802Z",
     "shell.execute_reply.started": "2024-09-15T17:17:07.222786Z"
    }
   },
   "outputs": [
    {
     "data": {
      "image/png": "[encoded data removed]",
      "text/plain": [
       "<Figure size 1000x600 with 1 Axes>"
      ]
     },
     "metadata": {},
     "output_type": "display_data"
    }
   ],
   "source": [
    "# Plot Accuracy\n",
    "plt.figure(figsize=(10, 6))\n",
    "sns.barplot(x=result_for_compraing.index, y='Accuracy', data=result_for_compraing, palette=\"Blues_d\")\n",
    "plt.title('Model Comparison: Accuracy', fontsize=16)\n",
    "plt.ylabel('Accuracy', fontsize=14)\n",
    "plt.xlabel('Model', fontsize=14)\n",
    "plt.xticks(rotation=45, ha='right')\n",
    "plt.tight_layout()\n",
    "plt.show()"
   ]
  },
  {
   "cell_type": "code",
   "execution_count": 35,
   "id": "dd54ff78",
   "metadata": {
    "execution": {
     "iopub.execute_input": "2024-09-15T17:17:07.769279Z",
     "iopub.status.busy": "2024-09-15T17:17:07.768967Z",
     "iopub.status.idle": "2024-09-15T17:17:08.295997Z",
     "shell.execute_reply": "2024-09-15T17:17:08.294938Z",
     "shell.execute_reply.started": "2024-09-15T17:17:07.769245Z"
    }
   },
   "outputs": [
    {
     "data": {
      "image/png": "[encoded data removed]",
      "text/plain": [
       "<Figure size 1000x600 with 1 Axes>"
      ]
     },
     "metadata": {},
     "output_type": "display_data"
    }
   ],
   "source": [
    "# Plot Precision\n",
    "plt.figure(figsize=(10, 6))\n",
    "sns.barplot(x=result_for_compraing.index, y='Precision', data=result_for_compraing, palette=\"Greens_d\")\n",
    "plt.title('Model Comparison: Precision', fontsize=16)\n",
    "plt.ylabel('Precision', fontsize=14)\n",
    "plt.xlabel('Model', fontsize=14)\n",
    "plt.xticks(rotation=45, ha='right')\n",
    "plt.tight_layout()\n",
    "plt.show()"
   ]
  },
  {
   "cell_type": "code",
   "execution_count": 36,
   "id": "c69735c1",
   "metadata": {
    "execution": {
     "iopub.execute_input": "2024-09-15T17:17:08.297678Z",
     "iopub.status.busy": "2024-09-15T17:17:08.297337Z",
     "iopub.status.idle": "2024-09-15T17:17:08.828874Z",
     "shell.execute_reply": "2024-09-15T17:17:08.827939Z",
     "shell.execute_reply.started": "2024-09-15T17:17:08.297643Z"
    }
   },
   "outputs": [
    {
     "data": {
      "image/png": "[encoded data removed]",
      "text/plain": [
       "<Figure size 1000x600 with 1 Axes>"
      ]
     },
     "metadata": {},
     "output_type": "display_data"
    }
   ],
   "source": [
    "# Plot Recall\n",
    "plt.figure(figsize=(10, 6))\n",
    "sns.barplot(x=result_for_compraing.index, y='Recall', data=result_for_compraing, palette=\"Oranges_d\")\n",
    "plt.title('Model Comparison: Recall', fontsize=16)\n",
    "plt.ylabel('Recall', fontsize=14)\n",
    "plt.xlabel('Model', fontsize=14)\n",
    "plt.xticks(rotation=45, ha='right')\n",
    "plt.tight_layout()\n",
    "plt.show()\n"
   ]
  },
  {
   "cell_type": "code",
   "execution_count": 37,
   "id": "7ffc28da",
   "metadata": {
    "execution": {
     "iopub.execute_input": "2024-09-15T17:17:08.830470Z",
     "iopub.status.busy": "2024-09-15T17:17:08.830133Z",
     "iopub.status.idle": "2024-09-15T17:17:09.346216Z",
     "shell.execute_reply": "2024-09-15T17:17:09.345222Z",
     "shell.execute_reply.started": "2024-09-15T17:17:08.830436Z"
    }
   },
   "outputs": [
    {
     "data": {
      "image/png": "[encoded data removed]",
      "text/plain": [
       "<Figure size 1000x600 with 1 Axes>"
      ]
     },
     "metadata": {},
     "output_type": "display_data"
    }
   ],
   "source": [
    "# Plot F1 Score\n",
    "plt.figure(figsize=(10, 6))\n",
    "sns.barplot(x=result_for_compraing.index, y='F1 Score', data=result_for_compraing, palette=\"Purples_d\")\n",
    "plt.title('Model Comparison: F1 Score', fontsize=16)\n",
    "plt.ylabel('F1 Score', fontsize=14)\n",
    "plt.xlabel('Model', fontsize=14)\n",
    "plt.xticks(rotation=45, ha='right')\n",
    "plt.tight_layout()\n",
    "plt.show()"
   ]
  },
  {
   "cell_type": "code",
   "execution_count": 38,
   "id": "ed38329d",
   "metadata": {
    "execution": {
     "iopub.execute_input": "2024-09-15T17:17:09.347899Z",
     "iopub.status.busy": "2024-09-15T17:17:09.347607Z",
     "iopub.status.idle": "2024-09-15T17:17:09.354669Z",
     "shell.execute_reply": "2024-09-15T17:17:09.353557Z",
     "shell.execute_reply.started": "2024-09-15T17:17:09.347867Z"
    }
   },
   "outputs": [
    {
     "data": {
      "text/plain": [
       "Index(['id', 'Gender', 'Age', 'Height', 'Weight',\n",
       "       'family_history_with_overweight', 'FAVC', 'FCVC', 'NCP', 'CAEC',\n",
       "       'SMOKE', 'CH2O', 'SCC', 'FAF', 'TUE', 'CALC', 'MTRANS', 'NObeyesdad'],\n",
       "      dtype='object')"
      ]
     },
     "execution_count": 38,
     "metadata": {},
     "output_type": "execute_result"
    }
   ],
   "source": [
    "df_train.columns"
   ]
  },
  {
   "cell_type": "code",
   "execution_count": null,
   "id": "b5178d8a",
   "metadata": {},
   "outputs": [],
   "source": []
  },
  {
   "cell_type": "code",
   "execution_count": 39,
   "id": "679475fb",
   "metadata": {
    "execution": {
     "iopub.execute_input": "2024-09-15T17:17:09.356544Z",
     "iopub.status.busy": "2024-09-15T17:17:09.356088Z",
     "iopub.status.idle": "2024-09-15T17:17:10.836539Z",
     "shell.execute_reply": "2024-09-15T17:17:10.835501Z",
     "shell.execute_reply.started": "2024-09-15T17:17:09.356499Z"
    }
   },
   "outputs": [
    {
     "name": "stdout",
     "output_type": "stream",
     "text": [
      "The best model based on Accuracy is: LightGBM\n",
      "[LightGBM] [Info] Auto-choosing row-wise multi-threading, the overhead of testing was 0.002118 seconds.\n",
      "You can set `force_row_wise=true` to remove the overhead.\n",
      "And if memory is not enough, you can set `force_col_wise=true`.\n",
      "[LightGBM] [Info] Total Bins 2019\n",
      "[LightGBM] [Info] Number of data points in the train set: 18682, number of used features: 16\n",
      "[LightGBM] [Info] Start training from score -2.108662\n",
      "[LightGBM] [Info] Start training from score -1.915233\n",
      "[LightGBM] [Info] Start training from score -1.953001\n",
      "[LightGBM] [Info] Start training from score -1.859064\n",
      "[LightGBM] [Info] Start training from score -1.635028\n",
      "[LightGBM] [Info] Start training from score -2.146860\n",
      "[LightGBM] [Info] Start training from score -2.105141\n",
      "LGBMClassifier()\n"
     ]
    }
   ],
   "source": [
    "# Find  model with  highest accuracy\n",
    "best_model_name = result_for_compraing['Accuracy'].idxmax()\n",
    "\n",
    "print(f\"The best model based on Accuracy is: {best_model_name}\")\n",
    "\n",
    "#  dictionary of  models \n",
    "models = {\n",
    "    'Logistic Regression': LogisticRegression(),\n",
    "    'Decision Tree': DecisionTreeClassifier(),\n",
    "    'Random Forest': RandomForestClassifier(),\n",
    "    'Gradient Boosting': GradientBoostingClassifier(),\n",
    "    'XGBoost': XGBClassifier(),\n",
    "    'K-Nearest Neighbors': KNeighborsClassifier(),\n",
    "    'SVM': SVC(),\n",
    "    'Naive Bayes': GaussianNB(),\n",
    "    'MLP': MLPClassifier(),\n",
    "    'AdaBoost': AdaBoostClassifier(),\n",
    "    'Bagging': BaggingClassifier(),\n",
    "    'LightGBM': LGBMClassifier()\n",
    "}\n",
    "\n",
    "# Select  best model from  models\n",
    "best_model = models[best_model_name]\n",
    "best_model.fit(X_train , y_train)\n",
    "print(best_model)"
   ]
  },
  {
   "cell_type": "code",
   "execution_count": null,
   "id": "d1fb5c37",
   "metadata": {},
   "outputs": [],
   "source": []
  },
  {
   "cell_type": "markdown",
   "id": "0777d471",
   "metadata": {},
   "source": [
    "###### Now apply  same preprocessing to df_test as  did for df_train, f"
   ]
  },
  {
   "cell_type": "code",
   "execution_count": null,
   "id": "0730965e",
   "metadata": {},
   "outputs": [],
   "source": []
  },
  {
   "cell_type": "code",
   "execution_count": 40,
   "id": "2192d581",
   "metadata": {
    "execution": {
     "iopub.execute_input": "2024-09-15T17:17:10.844030Z",
     "iopub.status.busy": "2024-09-15T17:17:10.843706Z",
     "iopub.status.idle": "2024-09-15T17:17:10.851165Z",
     "shell.execute_reply": "2024-09-15T17:17:10.849954Z",
     "shell.execute_reply.started": "2024-09-15T17:17:10.843997Z"
    }
   },
   "outputs": [],
   "source": [
    "# Initialize and fit the LabelEncoder on training labels\n",
    "label = LabelEncoder()\n",
    "label.fit(df_train['NObeyesdad'])\n",
    "\n",
    "# Encode training and testing labels\n",
    "df_train['NObeyesdad'] = label.transform(df_train['NObeyesdad'])\n"
   ]
  },
  {
   "cell_type": "code",
   "execution_count": 41,
   "id": "259862af",
   "metadata": {
    "execution": {
     "iopub.execute_input": "2024-09-15T17:17:10.853170Z",
     "iopub.status.busy": "2024-09-15T17:17:10.852744Z",
     "iopub.status.idle": "2024-09-15T17:17:10.894552Z",
     "shell.execute_reply": "2024-09-15T17:17:10.893559Z",
     "shell.execute_reply.started": "2024-09-15T17:17:10.853109Z"
    }
   },
   "outputs": [],
   "source": [
    "# Select object-type columns\n",
    "object_columns_t = df_test.select_dtypes(include=\"object\")\n",
    "non_object_columns_t = df_test.select_dtypes(exclude=\"object\")\n",
    "\n",
    "\n",
    "\n",
    "#encoded data categorical with label encoder\n",
    "for col in object_columns_t.columns:\n",
    "    df_test[col]=label.fit_transform(df_test[col])\n"
   ]
  },
  {
   "cell_type": "code",
   "execution_count": 42,
   "id": "16db7720",
   "metadata": {
    "execution": {
     "iopub.execute_input": "2024-09-15T17:17:10.896559Z",
     "iopub.status.busy": "2024-09-15T17:17:10.896139Z",
     "iopub.status.idle": "2024-09-15T17:17:10.908196Z",
     "shell.execute_reply": "2024-09-15T17:17:10.907151Z",
     "shell.execute_reply.started": "2024-09-15T17:17:10.896513Z"
    }
   },
   "outputs": [],
   "source": [
    "#  StandardScaler \n",
    "\n",
    "scaler = StandardScaler()\n",
    "\n",
    "# Standardize numerical columns except 'id'\n",
    "columns_to_scale = non_object_columns_t.drop(columns=['id'])\n",
    "df_test[columns_to_scale.columns] = scaler.fit_transform(columns_to_scale)"
   ]
  },
  {
   "cell_type": "code",
   "execution_count": null,
   "id": "26715c18",
   "metadata": {},
   "outputs": [],
   "source": []
  },
  {
   "cell_type": "markdown",
   "id": "04c8a75d",
   "metadata": {},
   "source": [
    "###### Predicted testing dataset"
   ]
  },
  {
   "cell_type": "code",
   "execution_count": 43,
   "id": "0af384d3",
   "metadata": {
    "execution": {
     "iopub.execute_input": "2024-09-15T17:17:10.910316Z",
     "iopub.status.busy": "2024-09-15T17:17:10.909869Z",
     "iopub.status.idle": "2024-09-15T17:17:10.918100Z",
     "shell.execute_reply": "2024-09-15T17:17:10.916984Z",
     "shell.execute_reply.started": "2024-09-15T17:17:10.910266Z"
    }
   },
   "outputs": [],
   "source": [
    "X_test = df_test.drop(columns=['id'])  # Drop 'id' column for prediction"
   ]
  },
  {
   "cell_type": "code",
   "execution_count": 44,
   "id": "239fe328",
   "metadata": {
    "execution": {
     "iopub.execute_input": "2024-09-15T17:17:10.920119Z",
     "iopub.status.busy": "2024-09-15T17:17:10.919706Z",
     "iopub.status.idle": "2024-09-15T17:17:11.250916Z",
     "shell.execute_reply": "2024-09-15T17:17:11.249855Z",
     "shell.execute_reply.started": "2024-09-15T17:17:10.920072Z"
    }
   },
   "outputs": [],
   "source": [
    "predictions = best_model.predict(X_test)##Predict using  best model\n"
   ]
  },
  {
   "cell_type": "code",
   "execution_count": 45,
   "id": "4388ae70",
   "metadata": {
    "execution": {
     "iopub.execute_input": "2024-09-15T17:17:11.252935Z",
     "iopub.status.busy": "2024-09-15T17:17:11.252502Z",
     "iopub.status.idle": "2024-09-15T17:17:11.259170Z",
     "shell.execute_reply": "2024-09-15T17:17:11.258032Z",
     "shell.execute_reply.started": "2024-09-15T17:17:11.252883Z"
    }
   },
   "outputs": [],
   "source": [
    "# Create a DataFrame with  'id' and predictions\n",
    "results = pd.DataFrame({\n",
    "    'id': df_test['id'],\n",
    "    'NObeyesdad': predictions\n",
    "})\n"
   ]
  },
  {
   "cell_type": "code",
   "execution_count": 46,
   "id": "944a9c77",
   "metadata": {
    "execution": {
     "iopub.execute_input": "2024-09-15T17:17:11.261412Z",
     "iopub.status.busy": "2024-09-15T17:17:11.260994Z",
     "iopub.status.idle": "2024-09-15T17:17:11.270723Z",
     "shell.execute_reply": "2024-09-15T17:17:11.269838Z",
     "shell.execute_reply.started": "2024-09-15T17:17:11.261362Z"
    }
   },
   "outputs": [],
   "source": [
    "mapping_dict = {\n",
    "    4: 'Obesity_Type_III',\n",
    "    3: 'Obesity_Type_II',\n",
    "    1: 'Normal_Weight',\n",
    "    2: 'Obesity_Type_I',\n",
    "    0: 'Insufficient_Weight',\n",
    "    6: 'Overweight_Level_II',\n",
    "    5: 'Overweight_Level_I'\n",
    "}\n",
    "results['NObeyesdad'] = results['NObeyesdad'].map(mapping_dict)\n"
   ]
  },
  {
   "cell_type": "code",
   "execution_count": null,
   "id": "29dd1c45",
   "metadata": {},
   "outputs": [],
   "source": []
  },
  {
   "cell_type": "code",
   "execution_count": 47,
   "id": "9bb4c041",
   "metadata": {
    "execution": {
     "iopub.execute_input": "2024-09-15T17:17:11.272181Z",
     "iopub.status.busy": "2024-09-15T17:17:11.271867Z",
     "iopub.status.idle": "2024-09-15T17:17:11.311295Z",
     "shell.execute_reply": "2024-09-15T17:17:11.310531Z",
     "shell.execute_reply.started": "2024-09-15T17:17:11.272148Z"
    }
   },
   "outputs": [],
   "source": [
    "# Save  results to 'submission.csv'\n",
    "results.to_csv('submission.csv', index=False)"
   ]
  },
  {
   "cell_type": "code",
   "execution_count": null,
   "id": "2e0baca1",
   "metadata": {},
   "outputs": [],
   "source": []
  }
 ],
 "metadata": {
  "kaggle": {
   "accelerator": "gpu",
   "dataSources": [
    {
     "databundleVersionId": 7609535,
     "sourceId": 68479,
     "sourceType": "competition"
    }
   ],
   "dockerImageVersionId": 30762,
   "isGpuEnabled": true,
   "isInternetEnabled": true,
   "language": "python",
   "sourceType": "notebook"
  },
  "kernelspec": {
   "display_name": "Python 3 (ipykernel)",
   "language": "python",
   "name": "python3"
  },
  "language_info": {
   "codemirror_mode": {
    "name": "ipython",
    "version": 3
   },
   "file_extension": ".py",
   "mimetype": "text/x-python",
   "name": "python",
   "nbconvert_exporter": "python",
   "pygments_lexer": "ipython3",
   "version": "3.9.13"
  }
 },
 "nbformat": 4,
 "nbformat_minor": 5
}
